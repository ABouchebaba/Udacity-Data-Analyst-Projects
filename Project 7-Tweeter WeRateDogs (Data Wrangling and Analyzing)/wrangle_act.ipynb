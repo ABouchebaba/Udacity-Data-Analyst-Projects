{
 "cells": [
  {
   "cell_type": "markdown",
   "metadata": {},
   "source": [
    "# Project : Wrangle and Analyse Data"
   ]
  },
  {
   "cell_type": "markdown",
   "metadata": {},
   "source": [
    "## Summary\n",
    "\n",
    "<ul>\n",
    "<li><a href=\"#introduction\">Introduction</a></li>\n",
    "<li><a href=\"#loading_libs\">Load Libraries</a></li>\n",
    "<li><a href=\"#data_gathering\">Data gathering</a>\n",
    "    <ul>\n",
    "        <li><a href=\"#gather_archive\">Twitter Archive</a></li>\n",
    "        <li><a href=\"#gather_predictions\">Image Predictions</a></li>\n",
    "        <li><a href=\"#gather_api\">API Data</a></li>\n",
    "    </ul>\n",
    "</li>\n",
    "<li><a href=\"#assessing\">Data Assessing</a>\n",
    "    <ul>\n",
    "        <li><a href=\"#assess_archive\">Archive table</a></li>\n",
    "        <li><a href=\"#assess_predictions\">Predictions table</a></li>\n",
    "        <li><a href=\"#assess_api\">Api table</a></li>\n",
    "        <li><a href=\"#assess_summary\">Assessing summary</a></li>\n",
    "    </ul>\n",
    "</li>\n",
    "<li><a href=\"#cleaning\">Data cleaning</a>\n",
    "    <ul>\n",
    "        <li><a href='#clean_missing_data'>Missing data</a></li>\n",
    "        <li><a href='#clean_tidiness'>Tidiness</a></li>\n",
    "        <li><a href='#clean_quality'>Quality</a></li>\n",
    "        <li><a href='#clean_conclusion'>Conclusion</a></li>\n",
    "    </ul>\n",
    "</li>\n",
    "<li><a href=\"#save_data\">Save wrangled data</a></li>\n",
    "<li><a href=\"#analysis_visualization\">Analysis & Visualization</a>\n",
    "    <ul>\n",
    "        <li><a href='#infl_rating'>Influence of rating over retweet and favorite counts</a></li>\n",
    "        <li><a href='#fav_dog_type'>Favorite dog type</a></li>\n",
    "        <li><a href='#fav_dog_breed'>Favorite dog breed</a></li>\n",
    "        <li><a href='#user_inter_time'>User interaction over time</a></li>\n",
    "    </ul>\n",
    "</li>\n",
    "<li><a href=\"#conclusion\">Conclusion</a></li>\n",
    "</ul>"
   ]
  },
  {
   "cell_type": "markdown",
   "metadata": {},
   "source": [
    "<a id='introduction'> </a>\n",
    "## Introduction\n",
    "\n",
    "In this project, I'll be analysing the weRateDogs twitter account's tweets, in order to find answers to the following questions:\n",
    "-\tWhat dog type do the users prefer?\n",
    "-\tDoes the given rating influence user interaction (retweets and favorites)?\n",
    "-\tHow does user interaction change over time?\n",
    "-\tWhat breed of dogs do the users prefer?\n",
    "\n",
    "but before that, Some data wrangling might be necessary to extract relevant data for this purpose."
   ]
  },
  {
   "cell_type": "markdown",
   "metadata": {},
   "source": [
    "<a id='loading_libs'> </a>\n",
    "\n",
    "## 1. Load libraries"
   ]
  },
  {
   "cell_type": "code",
   "execution_count": 97,
   "metadata": {},
   "outputs": [],
   "source": [
    "\n",
    "# To ignore matplotlib warnings\n",
    "import warnings\n",
    "warnings.filterwarnings(\"ignore\", module=\"matplotlib\")\n",
    "\n",
    "\n",
    "import pandas as pd\n",
    "import numpy as np\n",
    "import requests\n",
    "import os\n",
    "import tweepy\n",
    "import matplotlib.pyplot as plt\n",
    "from tweepy import OAuthHandler\n",
    "import json\n",
    "from timeit import default_timer as timer\n",
    "import re\n",
    "\n",
    "\n",
    "%matplotlib inline"
   ]
  },
  {
   "cell_type": "markdown",
   "metadata": {},
   "source": [
    "<a id='data_gathering'> </a>\n",
    "\n",
    "## 2. Data Gathering"
   ]
  },
  {
   "cell_type": "markdown",
   "metadata": {},
   "source": [
    "<a id='gather_archive'> </a>\n",
    "### 2.1 Twitter archive"
   ]
  },
  {
   "cell_type": "code",
   "execution_count": 2,
   "metadata": {},
   "outputs": [],
   "source": [
    "#1-- Twitter Archive\n",
    "\n",
    "# Opening the twitter archive file directly using pandas' read_csv method\n",
    "archive_df = pd.read_csv(\"twitter-archive-enhanced.csv\")"
   ]
  },
  {
   "cell_type": "markdown",
   "metadata": {},
   "source": [
    "<a id='gather_predictions'> </a>\n",
    "### 2.2 Image predictions\n"
   ]
  },
  {
   "cell_type": "code",
   "execution_count": 99,
   "metadata": {},
   "outputs": [],
   "source": [
    "# Programatically download the image prediction file via the request library\n",
    "\n",
    "url = \"https://d17h27t6h515a5.cloudfront.net/topher/2017/August/599fd2ad_image-predictions/image-predictions.tsv\"\n",
    "response = requests.get(url)\n",
    "\n",
    "# write the downloaded data to file\n",
    "with open(\"image-predictions.tsv\", mode=\"wb\") as file:\n",
    "    file.write(response.content)"
   ]
  },
  {
   "cell_type": "code",
   "execution_count": 100,
   "metadata": {
    "scrolled": true
   },
   "outputs": [],
   "source": [
    "# read the prediction data to a pandas dataframe\n",
    "prediction_df = pd.read_csv(\"image-predictions.tsv\", sep='\\t')"
   ]
  },
  {
   "cell_type": "markdown",
   "metadata": {},
   "source": [
    "<a id='gather_api'> </a>\n",
    "### 2.3 Api data"
   ]
  },
  {
   "cell_type": "code",
   "execution_count": null,
   "metadata": {},
   "outputs": [],
   "source": [
    "# 3\n",
    "# Query Twitter API for each tweet in the Twitter archive and save JSON in a text file\n",
    "# These are hidden to comply with Twitter's API terms and conditions\n",
    "consumer_key = 'HIDDEN'\n",
    "consumer_secret = 'HIDDEN'\n",
    "access_token = 'HIDDEN'\n",
    "access_secret = 'HIDDEN'\n",
    "\n",
    "auth = OAuthHandler(consumer_key, consumer_secret)\n",
    "auth.set_access_token(access_token, access_secret)\n",
    "\n",
    "api = tweepy.API(auth, wait_on_rate_limit=True)\n",
    "\n",
    "# NOTE TO STUDENT WITH MOBILE VERIFICATION ISSUES:\n",
    "# df_1 is a DataFrame with the twitter_archive_enhanced.csv file. You may have to\n",
    "# change line 17 to match the name of your DataFrame with twitter_archive_enhanced.csv\n",
    "# NOTE TO REVIEWER: this student had mobile verification issues so the following\n",
    "# Twitter API code was sent to this student from a Udacity instructor\n",
    "# Tweet IDs for which to gather additional data via Twitter's API\n",
    "tweet_ids = archive_df.tweet_id.values\n",
    "len(tweet_ids)\n",
    "\n",
    "# Query Twitter's API for JSON data for each tweet ID in the Twitter archive\n",
    "count = 0\n",
    "fails_dict = {}\n",
    "start = timer()\n",
    "# Save each tweet's returned JSON as a new line in a .txt file\n",
    "with open('tweet_json.txt', 'w') as outfile:\n",
    "    # This loop will likely take 20-30 minutes to run because of Twitter's rate limit\n",
    "    for tweet_id in tweet_ids:\n",
    "        count += 1\n",
    "        print(str(count) + \": \" + str(tweet_id))\n",
    "        try:\n",
    "            tweet = api.get_status(tweet_id, tweet_mode='extended')\n",
    "            print(\"Success\")\n",
    "            json.dump(tweet._json, outfile)\n",
    "            outfile.write('\\n')\n",
    "        except tweepy.TweepError as e:\n",
    "            print(\"Fail\")\n",
    "            fails_dict[tweet_id] = e\n",
    "            pass\n",
    "end = timer()\n",
    "print(end - start)\n",
    "print(fails_dict)"
   ]
  },
  {
   "cell_type": "code",
   "execution_count": 6,
   "metadata": {
    "scrolled": false
   },
   "outputs": [],
   "source": [
    "\n",
    "with open(\"tweet_json.txt\") as file:\n",
    "    rows = file.readlines()\n",
    "    rows_json = []\n",
    "\n",
    "    for row in rows:\n",
    "        # get row in json\n",
    "        row_json = json.loads(row)\n",
    "        \n",
    "        # append json object\n",
    "        rows_json.append({\n",
    "            \"tweet_id\": row_json[\"id\"],\n",
    "            \"retweet_count\": row_json[\"retweet_count\"],\n",
    "            \"favorite_count\": row_json[\"favorite_count\"]\n",
    "        })\n",
    "        \n",
    "api_df = pd.DataFrame(rows_json, columns = ['tweet_id', \n",
    "                                            'retweet_count', \n",
    "                                            'favorite_count'])\n"
   ]
  },
  {
   "cell_type": "markdown",
   "metadata": {},
   "source": [
    "<a id='assessing'> </a>\n",
    "\n",
    "## 3. Data Assessing"
   ]
  },
  {
   "cell_type": "markdown",
   "metadata": {},
   "source": [
    "<a id='assess_archive'> </a>\n",
    "\n",
    "### 3.1. Archive table"
   ]
  },
  {
   "cell_type": "code",
   "execution_count": 7,
   "metadata": {
    "scrolled": false
   },
   "outputs": [
    {
     "data": {
      "text/html": [
       "<div>\n",
       "<style scoped>\n",
       "    .dataframe tbody tr th:only-of-type {\n",
       "        vertical-align: middle;\n",
       "    }\n",
       "\n",
       "    .dataframe tbody tr th {\n",
       "        vertical-align: top;\n",
       "    }\n",
       "\n",
       "    .dataframe thead th {\n",
       "        text-align: right;\n",
       "    }\n",
       "</style>\n",
       "<table border=\"1\" class=\"dataframe\">\n",
       "  <thead>\n",
       "    <tr style=\"text-align: right;\">\n",
       "      <th></th>\n",
       "      <th>tweet_id</th>\n",
       "      <th>in_reply_to_status_id</th>\n",
       "      <th>in_reply_to_user_id</th>\n",
       "      <th>timestamp</th>\n",
       "      <th>source</th>\n",
       "      <th>text</th>\n",
       "      <th>retweeted_status_id</th>\n",
       "      <th>retweeted_status_user_id</th>\n",
       "      <th>retweeted_status_timestamp</th>\n",
       "      <th>expanded_urls</th>\n",
       "      <th>rating_numerator</th>\n",
       "      <th>rating_denominator</th>\n",
       "      <th>name</th>\n",
       "      <th>doggo</th>\n",
       "      <th>floofer</th>\n",
       "      <th>pupper</th>\n",
       "      <th>puppo</th>\n",
       "    </tr>\n",
       "  </thead>\n",
       "  <tbody>\n",
       "    <tr>\n",
       "      <th>0</th>\n",
       "      <td>892420643555336193</td>\n",
       "      <td>NaN</td>\n",
       "      <td>NaN</td>\n",
       "      <td>2017-08-01 16:23:56 +0000</td>\n",
       "      <td>&lt;a href=\"http://twitter.com/download/iphone\" r...</td>\n",
       "      <td>This is Phineas. He's a mystical boy. Only eve...</td>\n",
       "      <td>NaN</td>\n",
       "      <td>NaN</td>\n",
       "      <td>NaN</td>\n",
       "      <td>https://twitter.com/dog_rates/status/892420643...</td>\n",
       "      <td>13</td>\n",
       "      <td>10</td>\n",
       "      <td>Phineas</td>\n",
       "      <td>None</td>\n",
       "      <td>None</td>\n",
       "      <td>None</td>\n",
       "      <td>None</td>\n",
       "    </tr>\n",
       "    <tr>\n",
       "      <th>1</th>\n",
       "      <td>892177421306343426</td>\n",
       "      <td>NaN</td>\n",
       "      <td>NaN</td>\n",
       "      <td>2017-08-01 00:17:27 +0000</td>\n",
       "      <td>&lt;a href=\"http://twitter.com/download/iphone\" r...</td>\n",
       "      <td>This is Tilly. She's just checking pup on you....</td>\n",
       "      <td>NaN</td>\n",
       "      <td>NaN</td>\n",
       "      <td>NaN</td>\n",
       "      <td>https://twitter.com/dog_rates/status/892177421...</td>\n",
       "      <td>13</td>\n",
       "      <td>10</td>\n",
       "      <td>Tilly</td>\n",
       "      <td>None</td>\n",
       "      <td>None</td>\n",
       "      <td>None</td>\n",
       "      <td>None</td>\n",
       "    </tr>\n",
       "    <tr>\n",
       "      <th>2</th>\n",
       "      <td>891815181378084864</td>\n",
       "      <td>NaN</td>\n",
       "      <td>NaN</td>\n",
       "      <td>2017-07-31 00:18:03 +0000</td>\n",
       "      <td>&lt;a href=\"http://twitter.com/download/iphone\" r...</td>\n",
       "      <td>This is Archie. He is a rare Norwegian Pouncin...</td>\n",
       "      <td>NaN</td>\n",
       "      <td>NaN</td>\n",
       "      <td>NaN</td>\n",
       "      <td>https://twitter.com/dog_rates/status/891815181...</td>\n",
       "      <td>12</td>\n",
       "      <td>10</td>\n",
       "      <td>Archie</td>\n",
       "      <td>None</td>\n",
       "      <td>None</td>\n",
       "      <td>None</td>\n",
       "      <td>None</td>\n",
       "    </tr>\n",
       "    <tr>\n",
       "      <th>3</th>\n",
       "      <td>891689557279858688</td>\n",
       "      <td>NaN</td>\n",
       "      <td>NaN</td>\n",
       "      <td>2017-07-30 15:58:51 +0000</td>\n",
       "      <td>&lt;a href=\"http://twitter.com/download/iphone\" r...</td>\n",
       "      <td>This is Darla. She commenced a snooze mid meal...</td>\n",
       "      <td>NaN</td>\n",
       "      <td>NaN</td>\n",
       "      <td>NaN</td>\n",
       "      <td>https://twitter.com/dog_rates/status/891689557...</td>\n",
       "      <td>13</td>\n",
       "      <td>10</td>\n",
       "      <td>Darla</td>\n",
       "      <td>None</td>\n",
       "      <td>None</td>\n",
       "      <td>None</td>\n",
       "      <td>None</td>\n",
       "    </tr>\n",
       "    <tr>\n",
       "      <th>4</th>\n",
       "      <td>891327558926688256</td>\n",
       "      <td>NaN</td>\n",
       "      <td>NaN</td>\n",
       "      <td>2017-07-29 16:00:24 +0000</td>\n",
       "      <td>&lt;a href=\"http://twitter.com/download/iphone\" r...</td>\n",
       "      <td>This is Franklin. He would like you to stop ca...</td>\n",
       "      <td>NaN</td>\n",
       "      <td>NaN</td>\n",
       "      <td>NaN</td>\n",
       "      <td>https://twitter.com/dog_rates/status/891327558...</td>\n",
       "      <td>12</td>\n",
       "      <td>10</td>\n",
       "      <td>Franklin</td>\n",
       "      <td>None</td>\n",
       "      <td>None</td>\n",
       "      <td>None</td>\n",
       "      <td>None</td>\n",
       "    </tr>\n",
       "  </tbody>\n",
       "</table>\n",
       "</div>"
      ],
      "text/plain": [
       "             tweet_id  in_reply_to_status_id  in_reply_to_user_id  \\\n",
       "0  892420643555336193                    NaN                  NaN   \n",
       "1  892177421306343426                    NaN                  NaN   \n",
       "2  891815181378084864                    NaN                  NaN   \n",
       "3  891689557279858688                    NaN                  NaN   \n",
       "4  891327558926688256                    NaN                  NaN   \n",
       "\n",
       "                   timestamp  \\\n",
       "0  2017-08-01 16:23:56 +0000   \n",
       "1  2017-08-01 00:17:27 +0000   \n",
       "2  2017-07-31 00:18:03 +0000   \n",
       "3  2017-07-30 15:58:51 +0000   \n",
       "4  2017-07-29 16:00:24 +0000   \n",
       "\n",
       "                                              source  \\\n",
       "0  <a href=\"http://twitter.com/download/iphone\" r...   \n",
       "1  <a href=\"http://twitter.com/download/iphone\" r...   \n",
       "2  <a href=\"http://twitter.com/download/iphone\" r...   \n",
       "3  <a href=\"http://twitter.com/download/iphone\" r...   \n",
       "4  <a href=\"http://twitter.com/download/iphone\" r...   \n",
       "\n",
       "                                                text  retweeted_status_id  \\\n",
       "0  This is Phineas. He's a mystical boy. Only eve...                  NaN   \n",
       "1  This is Tilly. She's just checking pup on you....                  NaN   \n",
       "2  This is Archie. He is a rare Norwegian Pouncin...                  NaN   \n",
       "3  This is Darla. She commenced a snooze mid meal...                  NaN   \n",
       "4  This is Franklin. He would like you to stop ca...                  NaN   \n",
       "\n",
       "   retweeted_status_user_id retweeted_status_timestamp  \\\n",
       "0                       NaN                        NaN   \n",
       "1                       NaN                        NaN   \n",
       "2                       NaN                        NaN   \n",
       "3                       NaN                        NaN   \n",
       "4                       NaN                        NaN   \n",
       "\n",
       "                                       expanded_urls  rating_numerator  \\\n",
       "0  https://twitter.com/dog_rates/status/892420643...                13   \n",
       "1  https://twitter.com/dog_rates/status/892177421...                13   \n",
       "2  https://twitter.com/dog_rates/status/891815181...                12   \n",
       "3  https://twitter.com/dog_rates/status/891689557...                13   \n",
       "4  https://twitter.com/dog_rates/status/891327558...                12   \n",
       "\n",
       "   rating_denominator      name doggo floofer pupper puppo  \n",
       "0                  10   Phineas  None    None   None  None  \n",
       "1                  10     Tilly  None    None   None  None  \n",
       "2                  10    Archie  None    None   None  None  \n",
       "3                  10     Darla  None    None   None  None  \n",
       "4                  10  Franklin  None    None   None  None  "
      ]
     },
     "execution_count": 7,
     "metadata": {},
     "output_type": "execute_result"
    }
   ],
   "source": [
    "archive_df.head()"
   ]
  },
  {
   "cell_type": "markdown",
   "metadata": {},
   "source": [
    "1. Missing values for columns: doggo, floofer, pupper, puppo\n",
    "2. None instead of Nan in columns: doggo, floofer, pupper, puppo\n",
    "3. Those 4 columns represent the same type of information (dog type)\n"
   ]
  },
  {
   "cell_type": "code",
   "execution_count": 8,
   "metadata": {},
   "outputs": [
    {
     "data": {
      "text/html": [
       "<div>\n",
       "<style scoped>\n",
       "    .dataframe tbody tr th:only-of-type {\n",
       "        vertical-align: middle;\n",
       "    }\n",
       "\n",
       "    .dataframe tbody tr th {\n",
       "        vertical-align: top;\n",
       "    }\n",
       "\n",
       "    .dataframe thead th {\n",
       "        text-align: right;\n",
       "    }\n",
       "</style>\n",
       "<table border=\"1\" class=\"dataframe\">\n",
       "  <thead>\n",
       "    <tr style=\"text-align: right;\">\n",
       "      <th></th>\n",
       "      <th>doggo</th>\n",
       "      <th>floofer</th>\n",
       "      <th>pupper</th>\n",
       "      <th>puppo</th>\n",
       "    </tr>\n",
       "  </thead>\n",
       "  <tbody>\n",
       "    <tr>\n",
       "      <th>None</th>\n",
       "      <td>2259.0</td>\n",
       "      <td>2346.0</td>\n",
       "      <td>2099.0</td>\n",
       "      <td>2326.0</td>\n",
       "    </tr>\n",
       "    <tr>\n",
       "      <th>doggo</th>\n",
       "      <td>97.0</td>\n",
       "      <td>NaN</td>\n",
       "      <td>NaN</td>\n",
       "      <td>NaN</td>\n",
       "    </tr>\n",
       "    <tr>\n",
       "      <th>floofer</th>\n",
       "      <td>NaN</td>\n",
       "      <td>10.0</td>\n",
       "      <td>NaN</td>\n",
       "      <td>NaN</td>\n",
       "    </tr>\n",
       "    <tr>\n",
       "      <th>pupper</th>\n",
       "      <td>NaN</td>\n",
       "      <td>NaN</td>\n",
       "      <td>257.0</td>\n",
       "      <td>NaN</td>\n",
       "    </tr>\n",
       "    <tr>\n",
       "      <th>puppo</th>\n",
       "      <td>NaN</td>\n",
       "      <td>NaN</td>\n",
       "      <td>NaN</td>\n",
       "      <td>30.0</td>\n",
       "    </tr>\n",
       "  </tbody>\n",
       "</table>\n",
       "</div>"
      ],
      "text/plain": [
       "          doggo  floofer  pupper   puppo\n",
       "None     2259.0   2346.0  2099.0  2326.0\n",
       "doggo      97.0      NaN     NaN     NaN\n",
       "floofer     NaN     10.0     NaN     NaN\n",
       "pupper      NaN      NaN   257.0     NaN\n",
       "puppo       NaN      NaN     NaN    30.0"
      ]
     },
     "execution_count": 8,
     "metadata": {},
     "output_type": "execute_result"
    }
   ],
   "source": [
    "archive_df[[\"doggo\", \"floofer\", \"pupper\", \"puppo\"]].apply(pd.Series.value_counts)"
   ]
  },
  {
   "cell_type": "code",
   "execution_count": 9,
   "metadata": {},
   "outputs": [
    {
     "name": "stdout",
     "output_type": "stream",
     "text": [
      "Number of dog types provided : 394\n"
     ]
    }
   ],
   "source": [
    "print(\"Number of dog types provided : {}\".format(97 + 10 + 257 + 30 ))"
   ]
  },
  {
   "cell_type": "code",
   "execution_count": 10,
   "metadata": {
    "scrolled": false
   },
   "outputs": [
    {
     "name": "stdout",
     "output_type": "stream",
     "text": [
      "<class 'pandas.core.frame.DataFrame'>\n",
      "RangeIndex: 2356 entries, 0 to 2355\n",
      "Data columns (total 17 columns):\n",
      "tweet_id                      2356 non-null int64\n",
      "in_reply_to_status_id         78 non-null float64\n",
      "in_reply_to_user_id           78 non-null float64\n",
      "timestamp                     2356 non-null object\n",
      "source                        2356 non-null object\n",
      "text                          2356 non-null object\n",
      "retweeted_status_id           181 non-null float64\n",
      "retweeted_status_user_id      181 non-null float64\n",
      "retweeted_status_timestamp    181 non-null object\n",
      "expanded_urls                 2297 non-null object\n",
      "rating_numerator              2356 non-null int64\n",
      "rating_denominator            2356 non-null int64\n",
      "name                          2356 non-null object\n",
      "doggo                         2356 non-null object\n",
      "floofer                       2356 non-null object\n",
      "pupper                        2356 non-null object\n",
      "puppo                         2356 non-null object\n",
      "dtypes: float64(4), int64(3), object(10)\n",
      "memory usage: 313.0+ KB\n"
     ]
    }
   ],
   "source": [
    "archive_df.info()"
   ]
  },
  {
   "cell_type": "markdown",
   "metadata": {},
   "source": [
    "4. There are 181 retweets (which should not be included in the dataset).\n",
    "5. There are columns which I do not plan to use in my analysis:\n",
    "    - in_reply_to_status_id, in_reply_to_user_id\n",
    "    - expanded_urls\n",
    "    - name\n",
    "    - retweeted_status_id, retweeted_status_user_id, retweeted_status_timestamp (once retweets are dealt with these columns will be unnecessary)\n",
    "6. Erroneous datatype in columns: tweet_id, timestamp, (doggo, floofer, pupper, and puppo) which will be represented in 1 column(dogtype).\n"
   ]
  },
  {
   "cell_type": "code",
   "execution_count": 11,
   "metadata": {},
   "outputs": [
    {
     "data": {
      "text/plain": [
       "<a href=\"http://twitter.com/download/iphone\" rel=\"nofollow\">Twitter for iPhone</a>     2221\n",
       "<a href=\"http://vine.co\" rel=\"nofollow\">Vine - Make a Scene</a>                          91\n",
       "<a href=\"http://twitter.com\" rel=\"nofollow\">Twitter Web Client</a>                       33\n",
       "<a href=\"https://about.twitter.com/products/tweetdeck\" rel=\"nofollow\">TweetDeck</a>      11\n",
       "Name: source, dtype: int64"
      ]
     },
     "execution_count": 11,
     "metadata": {},
     "output_type": "execute_result"
    }
   ],
   "source": [
    "archive_df.source.value_counts()"
   ]
  },
  {
   "cell_type": "markdown",
   "metadata": {},
   "source": [
    "7. Source is given as a html anchor tag which is not necessary since there are only 4 different values, which can be labeled:\n",
    "    - iPhone\n",
    "    - Vine\n",
    "    - web client\n",
    "    - TweetDeck"
   ]
  },
  {
   "cell_type": "code",
   "execution_count": 12,
   "metadata": {},
   "outputs": [
    {
     "data": {
      "text/html": [
       "<div>\n",
       "<style scoped>\n",
       "    .dataframe tbody tr th:only-of-type {\n",
       "        vertical-align: middle;\n",
       "    }\n",
       "\n",
       "    .dataframe tbody tr th {\n",
       "        vertical-align: top;\n",
       "    }\n",
       "\n",
       "    .dataframe thead th {\n",
       "        text-align: right;\n",
       "    }\n",
       "</style>\n",
       "<table border=\"1\" class=\"dataframe\">\n",
       "  <thead>\n",
       "    <tr style=\"text-align: right;\">\n",
       "      <th></th>\n",
       "      <th>rating_denominator</th>\n",
       "      <th>rating_numerator</th>\n",
       "    </tr>\n",
       "  </thead>\n",
       "  <tbody>\n",
       "    <tr>\n",
       "      <th>count</th>\n",
       "      <td>2356.000000</td>\n",
       "      <td>2356.000000</td>\n",
       "    </tr>\n",
       "    <tr>\n",
       "      <th>mean</th>\n",
       "      <td>10.455433</td>\n",
       "      <td>13.126486</td>\n",
       "    </tr>\n",
       "    <tr>\n",
       "      <th>std</th>\n",
       "      <td>6.745237</td>\n",
       "      <td>45.876648</td>\n",
       "    </tr>\n",
       "    <tr>\n",
       "      <th>min</th>\n",
       "      <td>0.000000</td>\n",
       "      <td>0.000000</td>\n",
       "    </tr>\n",
       "    <tr>\n",
       "      <th>25%</th>\n",
       "      <td>10.000000</td>\n",
       "      <td>10.000000</td>\n",
       "    </tr>\n",
       "    <tr>\n",
       "      <th>50%</th>\n",
       "      <td>10.000000</td>\n",
       "      <td>11.000000</td>\n",
       "    </tr>\n",
       "    <tr>\n",
       "      <th>75%</th>\n",
       "      <td>10.000000</td>\n",
       "      <td>12.000000</td>\n",
       "    </tr>\n",
       "    <tr>\n",
       "      <th>max</th>\n",
       "      <td>170.000000</td>\n",
       "      <td>1776.000000</td>\n",
       "    </tr>\n",
       "  </tbody>\n",
       "</table>\n",
       "</div>"
      ],
      "text/plain": [
       "       rating_denominator  rating_numerator\n",
       "count         2356.000000       2356.000000\n",
       "mean            10.455433         13.126486\n",
       "std              6.745237         45.876648\n",
       "min              0.000000          0.000000\n",
       "25%             10.000000         10.000000\n",
       "50%             10.000000         11.000000\n",
       "75%             10.000000         12.000000\n",
       "max            170.000000       1776.000000"
      ]
     },
     "execution_count": 12,
     "metadata": {},
     "output_type": "execute_result"
    }
   ],
   "source": [
    "archive_df[['rating_denominator','rating_numerator']].describe()"
   ]
  },
  {
   "cell_type": "markdown",
   "metadata": {},
   "source": [
    "8. rating_denominator and rating_numerator have outliers.\n",
    "9. rating_denominator and rating_numerator represent 2 parts of the information 'dog rating'."
   ]
  },
  {
   "cell_type": "markdown",
   "metadata": {},
   "source": [
    "<a id='assess_predictions'> </a>\n",
    "\n",
    "### 3.2.  Predictions table"
   ]
  },
  {
   "cell_type": "code",
   "execution_count": 13,
   "metadata": {
    "scrolled": false
   },
   "outputs": [
    {
     "data": {
      "text/html": [
       "<div>\n",
       "<style scoped>\n",
       "    .dataframe tbody tr th:only-of-type {\n",
       "        vertical-align: middle;\n",
       "    }\n",
       "\n",
       "    .dataframe tbody tr th {\n",
       "        vertical-align: top;\n",
       "    }\n",
       "\n",
       "    .dataframe thead th {\n",
       "        text-align: right;\n",
       "    }\n",
       "</style>\n",
       "<table border=\"1\" class=\"dataframe\">\n",
       "  <thead>\n",
       "    <tr style=\"text-align: right;\">\n",
       "      <th></th>\n",
       "      <th>tweet_id</th>\n",
       "      <th>jpg_url</th>\n",
       "      <th>img_num</th>\n",
       "      <th>p1</th>\n",
       "      <th>p1_conf</th>\n",
       "      <th>p1_dog</th>\n",
       "      <th>p2</th>\n",
       "      <th>p2_conf</th>\n",
       "      <th>p2_dog</th>\n",
       "      <th>p3</th>\n",
       "      <th>p3_conf</th>\n",
       "      <th>p3_dog</th>\n",
       "    </tr>\n",
       "  </thead>\n",
       "  <tbody>\n",
       "    <tr>\n",
       "      <th>0</th>\n",
       "      <td>666020888022790149</td>\n",
       "      <td>https://pbs.twimg.com/media/CT4udn0WwAA0aMy.jpg</td>\n",
       "      <td>1</td>\n",
       "      <td>Welsh_springer_spaniel</td>\n",
       "      <td>0.465074</td>\n",
       "      <td>True</td>\n",
       "      <td>collie</td>\n",
       "      <td>0.156665</td>\n",
       "      <td>True</td>\n",
       "      <td>Shetland_sheepdog</td>\n",
       "      <td>0.061428</td>\n",
       "      <td>True</td>\n",
       "    </tr>\n",
       "    <tr>\n",
       "      <th>1</th>\n",
       "      <td>666029285002620928</td>\n",
       "      <td>https://pbs.twimg.com/media/CT42GRgUYAA5iDo.jpg</td>\n",
       "      <td>1</td>\n",
       "      <td>redbone</td>\n",
       "      <td>0.506826</td>\n",
       "      <td>True</td>\n",
       "      <td>miniature_pinscher</td>\n",
       "      <td>0.074192</td>\n",
       "      <td>True</td>\n",
       "      <td>Rhodesian_ridgeback</td>\n",
       "      <td>0.072010</td>\n",
       "      <td>True</td>\n",
       "    </tr>\n",
       "    <tr>\n",
       "      <th>2</th>\n",
       "      <td>666033412701032449</td>\n",
       "      <td>https://pbs.twimg.com/media/CT4521TWwAEvMyu.jpg</td>\n",
       "      <td>1</td>\n",
       "      <td>German_shepherd</td>\n",
       "      <td>0.596461</td>\n",
       "      <td>True</td>\n",
       "      <td>malinois</td>\n",
       "      <td>0.138584</td>\n",
       "      <td>True</td>\n",
       "      <td>bloodhound</td>\n",
       "      <td>0.116197</td>\n",
       "      <td>True</td>\n",
       "    </tr>\n",
       "    <tr>\n",
       "      <th>3</th>\n",
       "      <td>666044226329800704</td>\n",
       "      <td>https://pbs.twimg.com/media/CT5Dr8HUEAA-lEu.jpg</td>\n",
       "      <td>1</td>\n",
       "      <td>Rhodesian_ridgeback</td>\n",
       "      <td>0.408143</td>\n",
       "      <td>True</td>\n",
       "      <td>redbone</td>\n",
       "      <td>0.360687</td>\n",
       "      <td>True</td>\n",
       "      <td>miniature_pinscher</td>\n",
       "      <td>0.222752</td>\n",
       "      <td>True</td>\n",
       "    </tr>\n",
       "    <tr>\n",
       "      <th>4</th>\n",
       "      <td>666049248165822465</td>\n",
       "      <td>https://pbs.twimg.com/media/CT5IQmsXIAAKY4A.jpg</td>\n",
       "      <td>1</td>\n",
       "      <td>miniature_pinscher</td>\n",
       "      <td>0.560311</td>\n",
       "      <td>True</td>\n",
       "      <td>Rottweiler</td>\n",
       "      <td>0.243682</td>\n",
       "      <td>True</td>\n",
       "      <td>Doberman</td>\n",
       "      <td>0.154629</td>\n",
       "      <td>True</td>\n",
       "    </tr>\n",
       "  </tbody>\n",
       "</table>\n",
       "</div>"
      ],
      "text/plain": [
       "             tweet_id                                          jpg_url  \\\n",
       "0  666020888022790149  https://pbs.twimg.com/media/CT4udn0WwAA0aMy.jpg   \n",
       "1  666029285002620928  https://pbs.twimg.com/media/CT42GRgUYAA5iDo.jpg   \n",
       "2  666033412701032449  https://pbs.twimg.com/media/CT4521TWwAEvMyu.jpg   \n",
       "3  666044226329800704  https://pbs.twimg.com/media/CT5Dr8HUEAA-lEu.jpg   \n",
       "4  666049248165822465  https://pbs.twimg.com/media/CT5IQmsXIAAKY4A.jpg   \n",
       "\n",
       "   img_num                      p1   p1_conf  p1_dog                  p2  \\\n",
       "0        1  Welsh_springer_spaniel  0.465074    True              collie   \n",
       "1        1                 redbone  0.506826    True  miniature_pinscher   \n",
       "2        1         German_shepherd  0.596461    True            malinois   \n",
       "3        1     Rhodesian_ridgeback  0.408143    True             redbone   \n",
       "4        1      miniature_pinscher  0.560311    True          Rottweiler   \n",
       "\n",
       "    p2_conf  p2_dog                   p3   p3_conf  p3_dog  \n",
       "0  0.156665    True    Shetland_sheepdog  0.061428    True  \n",
       "1  0.074192    True  Rhodesian_ridgeback  0.072010    True  \n",
       "2  0.138584    True           bloodhound  0.116197    True  \n",
       "3  0.360687    True   miniature_pinscher  0.222752    True  \n",
       "4  0.243682    True             Doberman  0.154629    True  "
      ]
     },
     "execution_count": 13,
     "metadata": {},
     "output_type": "execute_result"
    }
   ],
   "source": [
    "prediction_df.head()"
   ]
  },
  {
   "cell_type": "markdown",
   "metadata": {},
   "source": [
    "10. The last 9 columns represent the same group of information(prediction, confidence, isDog)"
   ]
  },
  {
   "cell_type": "code",
   "execution_count": 14,
   "metadata": {},
   "outputs": [
    {
     "name": "stdout",
     "output_type": "stream",
     "text": [
      "<class 'pandas.core.frame.DataFrame'>\n",
      "RangeIndex: 2075 entries, 0 to 2074\n",
      "Data columns (total 12 columns):\n",
      "tweet_id    2075 non-null int64\n",
      "jpg_url     2075 non-null object\n",
      "img_num     2075 non-null int64\n",
      "p1          2075 non-null object\n",
      "p1_conf     2075 non-null float64\n",
      "p1_dog      2075 non-null bool\n",
      "p2          2075 non-null object\n",
      "p2_conf     2075 non-null float64\n",
      "p2_dog      2075 non-null bool\n",
      "p3          2075 non-null object\n",
      "p3_conf     2075 non-null float64\n",
      "p3_dog      2075 non-null bool\n",
      "dtypes: bool(3), float64(3), int64(2), object(4)\n",
      "memory usage: 152.1+ KB\n"
     ]
    }
   ],
   "source": [
    "prediction_df.info()"
   ]
  },
  {
   "cell_type": "markdown",
   "metadata": {},
   "source": [
    "10. Since there are 2075 rows in predictions table and 2356 rows in the archive table, there must be missing images for some tweets\n",
    "11. Erroneous datatype for column: tweet_id"
   ]
  },
  {
   "cell_type": "code",
   "execution_count": 15,
   "metadata": {
    "scrolled": true
   },
   "outputs": [
    {
     "data": {
      "text/html": [
       "<div>\n",
       "<style scoped>\n",
       "    .dataframe tbody tr th:only-of-type {\n",
       "        vertical-align: middle;\n",
       "    }\n",
       "\n",
       "    .dataframe tbody tr th {\n",
       "        vertical-align: top;\n",
       "    }\n",
       "\n",
       "    .dataframe thead th {\n",
       "        text-align: right;\n",
       "    }\n",
       "</style>\n",
       "<table border=\"1\" class=\"dataframe\">\n",
       "  <thead>\n",
       "    <tr style=\"text-align: right;\">\n",
       "      <th></th>\n",
       "      <th>tweet_id</th>\n",
       "      <th>jpg_url</th>\n",
       "      <th>img_num</th>\n",
       "      <th>p1</th>\n",
       "      <th>p1_conf</th>\n",
       "      <th>p1_dog</th>\n",
       "      <th>p2</th>\n",
       "      <th>p2_conf</th>\n",
       "      <th>p2_dog</th>\n",
       "      <th>p3</th>\n",
       "      <th>p3_conf</th>\n",
       "      <th>p3_dog</th>\n",
       "    </tr>\n",
       "  </thead>\n",
       "  <tbody>\n",
       "    <tr>\n",
       "      <th>6</th>\n",
       "      <td>666051853826850816</td>\n",
       "      <td>https://pbs.twimg.com/media/CT5KoJ1WoAAJash.jpg</td>\n",
       "      <td>1</td>\n",
       "      <td>box_turtle</td>\n",
       "      <td>0.933012</td>\n",
       "      <td>False</td>\n",
       "      <td>mud_turtle</td>\n",
       "      <td>4.588540e-02</td>\n",
       "      <td>False</td>\n",
       "      <td>terrapin</td>\n",
       "      <td>1.788530e-02</td>\n",
       "      <td>False</td>\n",
       "    </tr>\n",
       "    <tr>\n",
       "      <th>17</th>\n",
       "      <td>666104133288665088</td>\n",
       "      <td>https://pbs.twimg.com/media/CT56LSZWoAAlJj2.jpg</td>\n",
       "      <td>1</td>\n",
       "      <td>hen</td>\n",
       "      <td>0.965932</td>\n",
       "      <td>False</td>\n",
       "      <td>cock</td>\n",
       "      <td>3.391940e-02</td>\n",
       "      <td>False</td>\n",
       "      <td>partridge</td>\n",
       "      <td>5.206580e-05</td>\n",
       "      <td>False</td>\n",
       "    </tr>\n",
       "    <tr>\n",
       "      <th>18</th>\n",
       "      <td>666268910803644416</td>\n",
       "      <td>https://pbs.twimg.com/media/CT8QCd1WEAADXws.jpg</td>\n",
       "      <td>1</td>\n",
       "      <td>desktop_computer</td>\n",
       "      <td>0.086502</td>\n",
       "      <td>False</td>\n",
       "      <td>desk</td>\n",
       "      <td>8.554740e-02</td>\n",
       "      <td>False</td>\n",
       "      <td>bookcase</td>\n",
       "      <td>7.947970e-02</td>\n",
       "      <td>False</td>\n",
       "    </tr>\n",
       "    <tr>\n",
       "      <th>21</th>\n",
       "      <td>666293911632134144</td>\n",
       "      <td>https://pbs.twimg.com/media/CT8mx7KW4AEQu8N.jpg</td>\n",
       "      <td>1</td>\n",
       "      <td>three-toed_sloth</td>\n",
       "      <td>0.914671</td>\n",
       "      <td>False</td>\n",
       "      <td>otter</td>\n",
       "      <td>1.525000e-02</td>\n",
       "      <td>False</td>\n",
       "      <td>great_grey_owl</td>\n",
       "      <td>1.320720e-02</td>\n",
       "      <td>False</td>\n",
       "    </tr>\n",
       "    <tr>\n",
       "      <th>25</th>\n",
       "      <td>666362758909284353</td>\n",
       "      <td>https://pbs.twimg.com/media/CT9lXGsUcAAyUFt.jpg</td>\n",
       "      <td>1</td>\n",
       "      <td>guinea_pig</td>\n",
       "      <td>0.996496</td>\n",
       "      <td>False</td>\n",
       "      <td>skunk</td>\n",
       "      <td>2.402450e-03</td>\n",
       "      <td>False</td>\n",
       "      <td>hamster</td>\n",
       "      <td>4.608630e-04</td>\n",
       "      <td>False</td>\n",
       "    </tr>\n",
       "    <tr>\n",
       "      <th>29</th>\n",
       "      <td>666411507551481857</td>\n",
       "      <td>https://pbs.twimg.com/media/CT-RugiWIAELEaq.jpg</td>\n",
       "      <td>1</td>\n",
       "      <td>coho</td>\n",
       "      <td>0.404640</td>\n",
       "      <td>False</td>\n",
       "      <td>barracouta</td>\n",
       "      <td>2.714850e-01</td>\n",
       "      <td>False</td>\n",
       "      <td>gar</td>\n",
       "      <td>1.899450e-01</td>\n",
       "      <td>False</td>\n",
       "    </tr>\n",
       "    <tr>\n",
       "      <th>45</th>\n",
       "      <td>666786068205871104</td>\n",
       "      <td>https://pbs.twimg.com/media/CUDmZIkWcAAIPPe.jpg</td>\n",
       "      <td>1</td>\n",
       "      <td>snail</td>\n",
       "      <td>0.999888</td>\n",
       "      <td>False</td>\n",
       "      <td>slug</td>\n",
       "      <td>5.514170e-05</td>\n",
       "      <td>False</td>\n",
       "      <td>acorn</td>\n",
       "      <td>2.625800e-05</td>\n",
       "      <td>False</td>\n",
       "    </tr>\n",
       "    <tr>\n",
       "      <th>50</th>\n",
       "      <td>666837028449972224</td>\n",
       "      <td>https://pbs.twimg.com/media/CUEUva1WsAA2jPb.jpg</td>\n",
       "      <td>1</td>\n",
       "      <td>triceratops</td>\n",
       "      <td>0.442113</td>\n",
       "      <td>False</td>\n",
       "      <td>armadillo</td>\n",
       "      <td>1.140710e-01</td>\n",
       "      <td>False</td>\n",
       "      <td>common_iguana</td>\n",
       "      <td>4.325530e-02</td>\n",
       "      <td>False</td>\n",
       "    </tr>\n",
       "    <tr>\n",
       "      <th>51</th>\n",
       "      <td>666983947667116034</td>\n",
       "      <td>https://pbs.twimg.com/media/CUGaXDhW4AY9JUH.jpg</td>\n",
       "      <td>1</td>\n",
       "      <td>swab</td>\n",
       "      <td>0.589446</td>\n",
       "      <td>False</td>\n",
       "      <td>chain_saw</td>\n",
       "      <td>1.901420e-01</td>\n",
       "      <td>False</td>\n",
       "      <td>wig</td>\n",
       "      <td>3.450970e-02</td>\n",
       "      <td>False</td>\n",
       "    </tr>\n",
       "    <tr>\n",
       "      <th>53</th>\n",
       "      <td>667012601033924608</td>\n",
       "      <td>https://pbs.twimg.com/media/CUG0bC0U8AAw2su.jpg</td>\n",
       "      <td>1</td>\n",
       "      <td>hyena</td>\n",
       "      <td>0.987230</td>\n",
       "      <td>False</td>\n",
       "      <td>African_hunting_dog</td>\n",
       "      <td>1.260080e-02</td>\n",
       "      <td>False</td>\n",
       "      <td>coyote</td>\n",
       "      <td>5.735010e-05</td>\n",
       "      <td>False</td>\n",
       "    </tr>\n",
       "    <tr>\n",
       "      <th>56</th>\n",
       "      <td>667065535570550784</td>\n",
       "      <td>https://pbs.twimg.com/media/CUHkkJpXIAA2w3n.jpg</td>\n",
       "      <td>1</td>\n",
       "      <td>jigsaw_puzzle</td>\n",
       "      <td>0.560001</td>\n",
       "      <td>False</td>\n",
       "      <td>doormat</td>\n",
       "      <td>1.032590e-01</td>\n",
       "      <td>False</td>\n",
       "      <td>space_heater</td>\n",
       "      <td>4.256800e-02</td>\n",
       "      <td>False</td>\n",
       "    </tr>\n",
       "    <tr>\n",
       "      <th>69</th>\n",
       "      <td>667188689915760640</td>\n",
       "      <td>https://pbs.twimg.com/media/CUJUk2iWUAAVtOv.jpg</td>\n",
       "      <td>1</td>\n",
       "      <td>vacuum</td>\n",
       "      <td>0.335830</td>\n",
       "      <td>False</td>\n",
       "      <td>swab</td>\n",
       "      <td>2.652780e-01</td>\n",
       "      <td>False</td>\n",
       "      <td>toilet_tissue</td>\n",
       "      <td>1.407030e-01</td>\n",
       "      <td>False</td>\n",
       "    </tr>\n",
       "    <tr>\n",
       "      <th>73</th>\n",
       "      <td>667369227918143488</td>\n",
       "      <td>https://pbs.twimg.com/media/CUL4xR9UkAEdlJ6.jpg</td>\n",
       "      <td>1</td>\n",
       "      <td>teddy</td>\n",
       "      <td>0.709545</td>\n",
       "      <td>False</td>\n",
       "      <td>bath_towel</td>\n",
       "      <td>1.272850e-01</td>\n",
       "      <td>False</td>\n",
       "      <td>Christmas_stocking</td>\n",
       "      <td>2.856750e-02</td>\n",
       "      <td>False</td>\n",
       "    </tr>\n",
       "    <tr>\n",
       "      <th>77</th>\n",
       "      <td>667437278097252352</td>\n",
       "      <td>https://pbs.twimg.com/media/CUM2qWaWoAUZ06L.jpg</td>\n",
       "      <td>1</td>\n",
       "      <td>porcupine</td>\n",
       "      <td>0.989154</td>\n",
       "      <td>False</td>\n",
       "      <td>bath_towel</td>\n",
       "      <td>6.300490e-03</td>\n",
       "      <td>False</td>\n",
       "      <td>badger</td>\n",
       "      <td>9.663400e-04</td>\n",
       "      <td>False</td>\n",
       "    </tr>\n",
       "    <tr>\n",
       "      <th>78</th>\n",
       "      <td>667443425659232256</td>\n",
       "      <td>https://pbs.twimg.com/media/CUM8QZwW4AAVsBl.jpg</td>\n",
       "      <td>1</td>\n",
       "      <td>goose</td>\n",
       "      <td>0.980815</td>\n",
       "      <td>False</td>\n",
       "      <td>drake</td>\n",
       "      <td>6.917770e-03</td>\n",
       "      <td>False</td>\n",
       "      <td>hen</td>\n",
       "      <td>5.255170e-03</td>\n",
       "      <td>False</td>\n",
       "    </tr>\n",
       "    <tr>\n",
       "      <th>93</th>\n",
       "      <td>667549055577362432</td>\n",
       "      <td>https://pbs.twimg.com/media/CUOcVCwWsAERUKY.jpg</td>\n",
       "      <td>1</td>\n",
       "      <td>electric_fan</td>\n",
       "      <td>0.984377</td>\n",
       "      <td>False</td>\n",
       "      <td>spotlight</td>\n",
       "      <td>7.736710e-03</td>\n",
       "      <td>False</td>\n",
       "      <td>lampshade</td>\n",
       "      <td>1.901230e-03</td>\n",
       "      <td>False</td>\n",
       "    </tr>\n",
       "    <tr>\n",
       "      <th>94</th>\n",
       "      <td>667550882905632768</td>\n",
       "      <td>https://pbs.twimg.com/media/CUObvUJVEAAnYPF.jpg</td>\n",
       "      <td>1</td>\n",
       "      <td>web_site</td>\n",
       "      <td>0.998258</td>\n",
       "      <td>False</td>\n",
       "      <td>dishwasher</td>\n",
       "      <td>2.010840e-04</td>\n",
       "      <td>False</td>\n",
       "      <td>oscilloscope</td>\n",
       "      <td>1.417360e-04</td>\n",
       "      <td>False</td>\n",
       "    </tr>\n",
       "    <tr>\n",
       "      <th>96</th>\n",
       "      <td>667724302356258817</td>\n",
       "      <td>https://pbs.twimg.com/media/CUQ7tv3W4AA3KlI.jpg</td>\n",
       "      <td>1</td>\n",
       "      <td>ibex</td>\n",
       "      <td>0.619098</td>\n",
       "      <td>False</td>\n",
       "      <td>bighorn</td>\n",
       "      <td>1.251190e-01</td>\n",
       "      <td>False</td>\n",
       "      <td>ram</td>\n",
       "      <td>7.467320e-02</td>\n",
       "      <td>False</td>\n",
       "    </tr>\n",
       "    <tr>\n",
       "      <th>98</th>\n",
       "      <td>667766675769573376</td>\n",
       "      <td>https://pbs.twimg.com/media/CURiQMnUAAAPT2M.jpg</td>\n",
       "      <td>1</td>\n",
       "      <td>fire_engine</td>\n",
       "      <td>0.883493</td>\n",
       "      <td>False</td>\n",
       "      <td>tow_truck</td>\n",
       "      <td>7.473390e-02</td>\n",
       "      <td>False</td>\n",
       "      <td>jeep</td>\n",
       "      <td>1.277260e-02</td>\n",
       "      <td>False</td>\n",
       "    </tr>\n",
       "    <tr>\n",
       "      <th>100</th>\n",
       "      <td>667782464991965184</td>\n",
       "      <td>https://pbs.twimg.com/media/CURwm3cUkAARcO6.jpg</td>\n",
       "      <td>1</td>\n",
       "      <td>lorikeet</td>\n",
       "      <td>0.466149</td>\n",
       "      <td>False</td>\n",
       "      <td>hummingbird</td>\n",
       "      <td>8.301100e-02</td>\n",
       "      <td>False</td>\n",
       "      <td>African_grey</td>\n",
       "      <td>5.424740e-02</td>\n",
       "      <td>False</td>\n",
       "    </tr>\n",
       "    <tr>\n",
       "      <th>106</th>\n",
       "      <td>667866724293877760</td>\n",
       "      <td>https://pbs.twimg.com/media/CUS9PlUWwAANeAD.jpg</td>\n",
       "      <td>1</td>\n",
       "      <td>jigsaw_puzzle</td>\n",
       "      <td>1.000000</td>\n",
       "      <td>False</td>\n",
       "      <td>prayer_rug</td>\n",
       "      <td>1.011300e-08</td>\n",
       "      <td>False</td>\n",
       "      <td>doormat</td>\n",
       "      <td>1.740170e-10</td>\n",
       "      <td>False</td>\n",
       "    </tr>\n",
       "    <tr>\n",
       "      <th>107</th>\n",
       "      <td>667873844930215936</td>\n",
       "      <td>https://pbs.twimg.com/media/CUTDtyGXIAARxus.jpg</td>\n",
       "      <td>1</td>\n",
       "      <td>common_iguana</td>\n",
       "      <td>0.999647</td>\n",
       "      <td>False</td>\n",
       "      <td>frilled_lizard</td>\n",
       "      <td>1.811500e-04</td>\n",
       "      <td>False</td>\n",
       "      <td>African_chameleon</td>\n",
       "      <td>1.283570e-04</td>\n",
       "      <td>False</td>\n",
       "    </tr>\n",
       "    <tr>\n",
       "      <th>112</th>\n",
       "      <td>667911425562669056</td>\n",
       "      <td>https://pbs.twimg.com/media/CUTl5m1WUAAabZG.jpg</td>\n",
       "      <td>1</td>\n",
       "      <td>frilled_lizard</td>\n",
       "      <td>0.257695</td>\n",
       "      <td>False</td>\n",
       "      <td>ox</td>\n",
       "      <td>2.351600e-01</td>\n",
       "      <td>False</td>\n",
       "      <td>triceratops</td>\n",
       "      <td>8.531690e-02</td>\n",
       "      <td>False</td>\n",
       "    </tr>\n",
       "    <tr>\n",
       "      <th>115</th>\n",
       "      <td>667937095915278337</td>\n",
       "      <td>https://pbs.twimg.com/media/CUT9PuQWwAABQv7.jpg</td>\n",
       "      <td>1</td>\n",
       "      <td>hamster</td>\n",
       "      <td>0.172078</td>\n",
       "      <td>False</td>\n",
       "      <td>guinea_pig</td>\n",
       "      <td>9.492420e-02</td>\n",
       "      <td>False</td>\n",
       "      <td>Band_Aid</td>\n",
       "      <td>5.999520e-02</td>\n",
       "      <td>False</td>\n",
       "    </tr>\n",
       "    <tr>\n",
       "      <th>117</th>\n",
       "      <td>668142349051129856</td>\n",
       "      <td>https://pbs.twimg.com/media/CUW37BzWsAAlJlN.jpg</td>\n",
       "      <td>1</td>\n",
       "      <td>Angora</td>\n",
       "      <td>0.918834</td>\n",
       "      <td>False</td>\n",
       "      <td>hen</td>\n",
       "      <td>3.779340e-02</td>\n",
       "      <td>False</td>\n",
       "      <td>wood_rabbit</td>\n",
       "      <td>1.101490e-02</td>\n",
       "      <td>False</td>\n",
       "    </tr>\n",
       "    <tr>\n",
       "      <th>118</th>\n",
       "      <td>668154635664932864</td>\n",
       "      <td>https://pbs.twimg.com/media/CUXDGR2WcAAUQKz.jpg</td>\n",
       "      <td>1</td>\n",
       "      <td>Arctic_fox</td>\n",
       "      <td>0.473584</td>\n",
       "      <td>False</td>\n",
       "      <td>wallaby</td>\n",
       "      <td>2.614110e-01</td>\n",
       "      <td>False</td>\n",
       "      <td>white_wolf</td>\n",
       "      <td>8.094780e-02</td>\n",
       "      <td>False</td>\n",
       "    </tr>\n",
       "    <tr>\n",
       "      <th>123</th>\n",
       "      <td>668226093875376128</td>\n",
       "      <td>https://pbs.twimg.com/media/CUYEFlQXAAUkPGm.jpg</td>\n",
       "      <td>1</td>\n",
       "      <td>trombone</td>\n",
       "      <td>0.390339</td>\n",
       "      <td>False</td>\n",
       "      <td>cornet</td>\n",
       "      <td>3.141490e-01</td>\n",
       "      <td>False</td>\n",
       "      <td>French_horn</td>\n",
       "      <td>2.551820e-01</td>\n",
       "      <td>False</td>\n",
       "    </tr>\n",
       "    <tr>\n",
       "      <th>130</th>\n",
       "      <td>668291999406125056</td>\n",
       "      <td>https://pbs.twimg.com/media/CUZABzGW4AE5F0k.jpg</td>\n",
       "      <td>1</td>\n",
       "      <td>web_site</td>\n",
       "      <td>0.995535</td>\n",
       "      <td>False</td>\n",
       "      <td>skunk</td>\n",
       "      <td>1.363490e-03</td>\n",
       "      <td>False</td>\n",
       "      <td>badger</td>\n",
       "      <td>6.856500e-04</td>\n",
       "      <td>False</td>\n",
       "    </tr>\n",
       "    <tr>\n",
       "      <th>132</th>\n",
       "      <td>668466899341221888</td>\n",
       "      <td>https://pbs.twimg.com/media/CUbfGbbWoAApZth.jpg</td>\n",
       "      <td>1</td>\n",
       "      <td>shopping_basket</td>\n",
       "      <td>0.398361</td>\n",
       "      <td>False</td>\n",
       "      <td>hamper</td>\n",
       "      <td>3.632220e-01</td>\n",
       "      <td>False</td>\n",
       "      <td>bassinet</td>\n",
       "      <td>8.417350e-02</td>\n",
       "      <td>False</td>\n",
       "    </tr>\n",
       "    <tr>\n",
       "      <th>140</th>\n",
       "      <td>668544745690562560</td>\n",
       "      <td>https://pbs.twimg.com/media/CUcl5jeWsAA6ufS.jpg</td>\n",
       "      <td>1</td>\n",
       "      <td>bearskin</td>\n",
       "      <td>0.427870</td>\n",
       "      <td>False</td>\n",
       "      <td>bow</td>\n",
       "      <td>2.588580e-01</td>\n",
       "      <td>False</td>\n",
       "      <td>panpipe</td>\n",
       "      <td>2.156260e-02</td>\n",
       "      <td>False</td>\n",
       "    </tr>\n",
       "    <tr>\n",
       "      <th>...</th>\n",
       "      <td>...</td>\n",
       "      <td>...</td>\n",
       "      <td>...</td>\n",
       "      <td>...</td>\n",
       "      <td>...</td>\n",
       "      <td>...</td>\n",
       "      <td>...</td>\n",
       "      <td>...</td>\n",
       "      <td>...</td>\n",
       "      <td>...</td>\n",
       "      <td>...</td>\n",
       "      <td>...</td>\n",
       "    </tr>\n",
       "    <tr>\n",
       "      <th>1839</th>\n",
       "      <td>837482249356513284</td>\n",
       "      <td>https://pbs.twimg.com/media/C59VqMUXEAAzldG.jpg</td>\n",
       "      <td>2</td>\n",
       "      <td>birdhouse</td>\n",
       "      <td>0.541196</td>\n",
       "      <td>False</td>\n",
       "      <td>can_opener</td>\n",
       "      <td>1.210940e-01</td>\n",
       "      <td>False</td>\n",
       "      <td>carton</td>\n",
       "      <td>5.613670e-02</td>\n",
       "      <td>False</td>\n",
       "    </tr>\n",
       "    <tr>\n",
       "      <th>1844</th>\n",
       "      <td>838916489579200512</td>\n",
       "      <td>https://pbs.twimg.com/media/C6RkiQZUsAAM4R4.jpg</td>\n",
       "      <td>2</td>\n",
       "      <td>web_site</td>\n",
       "      <td>0.993651</td>\n",
       "      <td>False</td>\n",
       "      <td>monitor</td>\n",
       "      <td>1.405900e-03</td>\n",
       "      <td>False</td>\n",
       "      <td>envelope</td>\n",
       "      <td>1.093090e-03</td>\n",
       "      <td>False</td>\n",
       "    </tr>\n",
       "    <tr>\n",
       "      <th>1847</th>\n",
       "      <td>839290600511926273</td>\n",
       "      <td>https://pbs.twimg.com/media/C6XBt9XXEAEEW9U.jpg</td>\n",
       "      <td>1</td>\n",
       "      <td>web_site</td>\n",
       "      <td>0.670892</td>\n",
       "      <td>False</td>\n",
       "      <td>monitor</td>\n",
       "      <td>1.015650e-01</td>\n",
       "      <td>False</td>\n",
       "      <td>screen</td>\n",
       "      <td>7.530610e-02</td>\n",
       "      <td>False</td>\n",
       "    </tr>\n",
       "    <tr>\n",
       "      <th>1851</th>\n",
       "      <td>840370681858686976</td>\n",
       "      <td>https://pbs.twimg.com/media/C6mYrK0UwAANhep.jpg</td>\n",
       "      <td>1</td>\n",
       "      <td>teapot</td>\n",
       "      <td>0.981819</td>\n",
       "      <td>False</td>\n",
       "      <td>cup</td>\n",
       "      <td>1.402580e-02</td>\n",
       "      <td>False</td>\n",
       "      <td>coffeepot</td>\n",
       "      <td>2.420540e-03</td>\n",
       "      <td>False</td>\n",
       "    </tr>\n",
       "    <tr>\n",
       "      <th>1853</th>\n",
       "      <td>840696689258311684</td>\n",
       "      <td>https://pbs.twimg.com/media/C6rBLenU0AAr8MN.jpg</td>\n",
       "      <td>1</td>\n",
       "      <td>web_site</td>\n",
       "      <td>0.841768</td>\n",
       "      <td>False</td>\n",
       "      <td>rule</td>\n",
       "      <td>7.087310e-03</td>\n",
       "      <td>False</td>\n",
       "      <td>envelope</td>\n",
       "      <td>6.820300e-03</td>\n",
       "      <td>False</td>\n",
       "    </tr>\n",
       "    <tr>\n",
       "      <th>1869</th>\n",
       "      <td>844580511645339650</td>\n",
       "      <td>https://pbs.twimg.com/media/C7iNfq1W0AAcbsR.jpg</td>\n",
       "      <td>1</td>\n",
       "      <td>washer</td>\n",
       "      <td>0.903064</td>\n",
       "      <td>False</td>\n",
       "      <td>dishwasher</td>\n",
       "      <td>3.248900e-02</td>\n",
       "      <td>False</td>\n",
       "      <td>printer</td>\n",
       "      <td>1.645620e-02</td>\n",
       "      <td>False</td>\n",
       "    </tr>\n",
       "    <tr>\n",
       "      <th>1886</th>\n",
       "      <td>847962785489326080</td>\n",
       "      <td>https://pbs.twimg.com/media/C8SRpHNUIAARB3j.jpg</td>\n",
       "      <td>1</td>\n",
       "      <td>sea_lion</td>\n",
       "      <td>0.882654</td>\n",
       "      <td>False</td>\n",
       "      <td>mink</td>\n",
       "      <td>6.688020e-02</td>\n",
       "      <td>False</td>\n",
       "      <td>otter</td>\n",
       "      <td>2.567870e-02</td>\n",
       "      <td>False</td>\n",
       "    </tr>\n",
       "    <tr>\n",
       "      <th>1887</th>\n",
       "      <td>847971574464610304</td>\n",
       "      <td>https://pbs.twimg.com/media/C8SZH1EWAAAIRRF.jpg</td>\n",
       "      <td>1</td>\n",
       "      <td>coffee_mug</td>\n",
       "      <td>0.633652</td>\n",
       "      <td>False</td>\n",
       "      <td>cup</td>\n",
       "      <td>2.733920e-01</td>\n",
       "      <td>False</td>\n",
       "      <td>toilet_tissue</td>\n",
       "      <td>6.665580e-02</td>\n",
       "      <td>False</td>\n",
       "    </tr>\n",
       "    <tr>\n",
       "      <th>1891</th>\n",
       "      <td>849051919805034497</td>\n",
       "      <td>https://pbs.twimg.com/media/C8hwNxbXYAAwyVG.jpg</td>\n",
       "      <td>1</td>\n",
       "      <td>fountain</td>\n",
       "      <td>0.997509</td>\n",
       "      <td>False</td>\n",
       "      <td>American_black_bear</td>\n",
       "      <td>1.413120e-03</td>\n",
       "      <td>False</td>\n",
       "      <td>sundial</td>\n",
       "      <td>6.811150e-04</td>\n",
       "      <td>False</td>\n",
       "    </tr>\n",
       "    <tr>\n",
       "      <th>1892</th>\n",
       "      <td>849336543269576704</td>\n",
       "      <td>https://pbs.twimg.com/media/C8lzFC4XcAAQxB4.jpg</td>\n",
       "      <td>1</td>\n",
       "      <td>patio</td>\n",
       "      <td>0.521788</td>\n",
       "      <td>False</td>\n",
       "      <td>prison</td>\n",
       "      <td>1.495440e-01</td>\n",
       "      <td>False</td>\n",
       "      <td>restaurant</td>\n",
       "      <td>2.715260e-02</td>\n",
       "      <td>False</td>\n",
       "    </tr>\n",
       "    <tr>\n",
       "      <th>1900</th>\n",
       "      <td>851464819735769094</td>\n",
       "      <td>https://pbs.twimg.com/media/C9ECujZXsAAPCSM.jpg</td>\n",
       "      <td>2</td>\n",
       "      <td>web_site</td>\n",
       "      <td>0.919649</td>\n",
       "      <td>False</td>\n",
       "      <td>menu</td>\n",
       "      <td>2.630610e-02</td>\n",
       "      <td>False</td>\n",
       "      <td>crossword_puzzle</td>\n",
       "      <td>3.481510e-03</td>\n",
       "      <td>False</td>\n",
       "    </tr>\n",
       "    <tr>\n",
       "      <th>1902</th>\n",
       "      <td>851861385021730816</td>\n",
       "      <td>https://pbs.twimg.com/media/C8W6sY_W0AEmttW.jpg</td>\n",
       "      <td>1</td>\n",
       "      <td>pencil_box</td>\n",
       "      <td>0.662183</td>\n",
       "      <td>False</td>\n",
       "      <td>purse</td>\n",
       "      <td>6.650550e-02</td>\n",
       "      <td>False</td>\n",
       "      <td>pillow</td>\n",
       "      <td>4.472530e-02</td>\n",
       "      <td>False</td>\n",
       "    </tr>\n",
       "    <tr>\n",
       "      <th>1905</th>\n",
       "      <td>852226086759018497</td>\n",
       "      <td>https://pbs.twimg.com/ext_tw_video_thumb/85222...</td>\n",
       "      <td>1</td>\n",
       "      <td>prison</td>\n",
       "      <td>0.352793</td>\n",
       "      <td>False</td>\n",
       "      <td>dishwasher</td>\n",
       "      <td>1.107230e-01</td>\n",
       "      <td>False</td>\n",
       "      <td>file</td>\n",
       "      <td>9.411200e-02</td>\n",
       "      <td>False</td>\n",
       "    </tr>\n",
       "    <tr>\n",
       "      <th>1906</th>\n",
       "      <td>852311364735569921</td>\n",
       "      <td>https://pbs.twimg.com/media/C9QEqZ7XYAIR7fS.jpg</td>\n",
       "      <td>1</td>\n",
       "      <td>barbell</td>\n",
       "      <td>0.971581</td>\n",
       "      <td>False</td>\n",
       "      <td>dumbbell</td>\n",
       "      <td>2.841790e-02</td>\n",
       "      <td>False</td>\n",
       "      <td>go-kart</td>\n",
       "      <td>5.595040e-07</td>\n",
       "      <td>False</td>\n",
       "    </tr>\n",
       "    <tr>\n",
       "      <th>1910</th>\n",
       "      <td>853299958564483072</td>\n",
       "      <td>https://pbs.twimg.com/media/C9eHyF7XgAAOxPM.jpg</td>\n",
       "      <td>1</td>\n",
       "      <td>grille</td>\n",
       "      <td>0.652280</td>\n",
       "      <td>False</td>\n",
       "      <td>beach_wagon</td>\n",
       "      <td>1.128460e-01</td>\n",
       "      <td>False</td>\n",
       "      <td>convertible</td>\n",
       "      <td>8.625230e-02</td>\n",
       "      <td>False</td>\n",
       "    </tr>\n",
       "    <tr>\n",
       "      <th>1931</th>\n",
       "      <td>859074603037188101</td>\n",
       "      <td>https://pbs.twimg.com/media/C-wLyufW0AA546I.jpg</td>\n",
       "      <td>1</td>\n",
       "      <td>revolver</td>\n",
       "      <td>0.190292</td>\n",
       "      <td>False</td>\n",
       "      <td>projectile</td>\n",
       "      <td>1.490640e-01</td>\n",
       "      <td>False</td>\n",
       "      <td>fountain</td>\n",
       "      <td>6.604660e-02</td>\n",
       "      <td>False</td>\n",
       "    </tr>\n",
       "    <tr>\n",
       "      <th>1936</th>\n",
       "      <td>860184849394610176</td>\n",
       "      <td>https://pbs.twimg.com/media/C-_9jWWUwAAnwkd.jpg</td>\n",
       "      <td>1</td>\n",
       "      <td>chimpanzee</td>\n",
       "      <td>0.267612</td>\n",
       "      <td>False</td>\n",
       "      <td>gorilla</td>\n",
       "      <td>1.042930e-01</td>\n",
       "      <td>False</td>\n",
       "      <td>orangutan</td>\n",
       "      <td>5.990750e-02</td>\n",
       "      <td>False</td>\n",
       "    </tr>\n",
       "    <tr>\n",
       "      <th>1937</th>\n",
       "      <td>860276583193509888</td>\n",
       "      <td>https://pbs.twimg.com/media/C_BQ_NlVwAAgYGD.jpg</td>\n",
       "      <td>1</td>\n",
       "      <td>lakeside</td>\n",
       "      <td>0.312299</td>\n",
       "      <td>False</td>\n",
       "      <td>dock</td>\n",
       "      <td>1.598420e-01</td>\n",
       "      <td>False</td>\n",
       "      <td>canoe</td>\n",
       "      <td>7.079450e-02</td>\n",
       "      <td>False</td>\n",
       "    </tr>\n",
       "    <tr>\n",
       "      <th>1940</th>\n",
       "      <td>860924035999428608</td>\n",
       "      <td>https://pbs.twimg.com/media/C_KVJjDXsAEUCWn.jpg</td>\n",
       "      <td>2</td>\n",
       "      <td>envelope</td>\n",
       "      <td>0.933016</td>\n",
       "      <td>False</td>\n",
       "      <td>oscilloscope</td>\n",
       "      <td>1.259140e-02</td>\n",
       "      <td>False</td>\n",
       "      <td>paper_towel</td>\n",
       "      <td>1.117850e-02</td>\n",
       "      <td>False</td>\n",
       "    </tr>\n",
       "    <tr>\n",
       "      <th>1946</th>\n",
       "      <td>862457590147678208</td>\n",
       "      <td>https://pbs.twimg.com/media/C_gQmaTUMAAPYSS.jpg</td>\n",
       "      <td>1</td>\n",
       "      <td>home_theater</td>\n",
       "      <td>0.496348</td>\n",
       "      <td>False</td>\n",
       "      <td>studio_couch</td>\n",
       "      <td>1.672560e-01</td>\n",
       "      <td>False</td>\n",
       "      <td>barber_chair</td>\n",
       "      <td>5.262500e-02</td>\n",
       "      <td>False</td>\n",
       "    </tr>\n",
       "    <tr>\n",
       "      <th>1953</th>\n",
       "      <td>863907417377173506</td>\n",
       "      <td>https://pbs.twimg.com/media/C_03NPeUQAAgrMl.jpg</td>\n",
       "      <td>1</td>\n",
       "      <td>marmot</td>\n",
       "      <td>0.358828</td>\n",
       "      <td>False</td>\n",
       "      <td>meerkat</td>\n",
       "      <td>1.747030e-01</td>\n",
       "      <td>False</td>\n",
       "      <td>weasel</td>\n",
       "      <td>1.234850e-01</td>\n",
       "      <td>False</td>\n",
       "    </tr>\n",
       "    <tr>\n",
       "      <th>1956</th>\n",
       "      <td>864873206498414592</td>\n",
       "      <td>https://pbs.twimg.com/media/DAClmHkXcAA1kSv.jpg</td>\n",
       "      <td>2</td>\n",
       "      <td>pole</td>\n",
       "      <td>0.478616</td>\n",
       "      <td>False</td>\n",
       "      <td>lakeside</td>\n",
       "      <td>1.141820e-01</td>\n",
       "      <td>False</td>\n",
       "      <td>wreck</td>\n",
       "      <td>5.592650e-02</td>\n",
       "      <td>False</td>\n",
       "    </tr>\n",
       "    <tr>\n",
       "      <th>1975</th>\n",
       "      <td>870063196459192321</td>\n",
       "      <td>https://pbs.twimg.com/media/DBMV3NnXUAAm0Pp.jpg</td>\n",
       "      <td>1</td>\n",
       "      <td>comic_book</td>\n",
       "      <td>0.534409</td>\n",
       "      <td>False</td>\n",
       "      <td>envelope</td>\n",
       "      <td>2.807220e-01</td>\n",
       "      <td>False</td>\n",
       "      <td>book_jacket</td>\n",
       "      <td>4.378550e-02</td>\n",
       "      <td>False</td>\n",
       "    </tr>\n",
       "    <tr>\n",
       "      <th>1979</th>\n",
       "      <td>870804317367881728</td>\n",
       "      <td>https://pbs.twimg.com/media/DBW35ZsVoAEWZUU.jpg</td>\n",
       "      <td>1</td>\n",
       "      <td>home_theater</td>\n",
       "      <td>0.168290</td>\n",
       "      <td>False</td>\n",
       "      <td>sandbar</td>\n",
       "      <td>9.804040e-02</td>\n",
       "      <td>False</td>\n",
       "      <td>television</td>\n",
       "      <td>7.972940e-02</td>\n",
       "      <td>False</td>\n",
       "    </tr>\n",
       "    <tr>\n",
       "      <th>2012</th>\n",
       "      <td>879050749262655488</td>\n",
       "      <td>https://pbs.twimg.com/media/DDMD_phXoAQ1qf0.jpg</td>\n",
       "      <td>1</td>\n",
       "      <td>tabby</td>\n",
       "      <td>0.311861</td>\n",
       "      <td>False</td>\n",
       "      <td>window_screen</td>\n",
       "      <td>1.691230e-01</td>\n",
       "      <td>False</td>\n",
       "      <td>Egyptian_cat</td>\n",
       "      <td>1.329320e-01</td>\n",
       "      <td>False</td>\n",
       "    </tr>\n",
       "    <tr>\n",
       "      <th>2021</th>\n",
       "      <td>880935762899988482</td>\n",
       "      <td>https://pbs.twimg.com/media/DDm2Z5aXUAEDS2u.jpg</td>\n",
       "      <td>1</td>\n",
       "      <td>street_sign</td>\n",
       "      <td>0.251801</td>\n",
       "      <td>False</td>\n",
       "      <td>umbrella</td>\n",
       "      <td>1.151230e-01</td>\n",
       "      <td>False</td>\n",
       "      <td>traffic_light</td>\n",
       "      <td>6.953380e-02</td>\n",
       "      <td>False</td>\n",
       "    </tr>\n",
       "    <tr>\n",
       "      <th>2022</th>\n",
       "      <td>881268444196462592</td>\n",
       "      <td>https://pbs.twimg.com/media/DDrk-f9WAAI-WQv.jpg</td>\n",
       "      <td>1</td>\n",
       "      <td>tusker</td>\n",
       "      <td>0.473303</td>\n",
       "      <td>False</td>\n",
       "      <td>Indian_elephant</td>\n",
       "      <td>2.456460e-01</td>\n",
       "      <td>False</td>\n",
       "      <td>ibex</td>\n",
       "      <td>5.566070e-02</td>\n",
       "      <td>False</td>\n",
       "    </tr>\n",
       "    <tr>\n",
       "      <th>2046</th>\n",
       "      <td>886680336477933568</td>\n",
       "      <td>https://pbs.twimg.com/media/DE4fEDzWAAAyHMM.jpg</td>\n",
       "      <td>1</td>\n",
       "      <td>convertible</td>\n",
       "      <td>0.738995</td>\n",
       "      <td>False</td>\n",
       "      <td>sports_car</td>\n",
       "      <td>1.399520e-01</td>\n",
       "      <td>False</td>\n",
       "      <td>car_wheel</td>\n",
       "      <td>4.417270e-02</td>\n",
       "      <td>False</td>\n",
       "    </tr>\n",
       "    <tr>\n",
       "      <th>2052</th>\n",
       "      <td>887517139158093824</td>\n",
       "      <td>https://pbs.twimg.com/ext_tw_video_thumb/88751...</td>\n",
       "      <td>1</td>\n",
       "      <td>limousine</td>\n",
       "      <td>0.130432</td>\n",
       "      <td>False</td>\n",
       "      <td>tow_truck</td>\n",
       "      <td>2.917540e-02</td>\n",
       "      <td>False</td>\n",
       "      <td>shopping_cart</td>\n",
       "      <td>2.632080e-02</td>\n",
       "      <td>False</td>\n",
       "    </tr>\n",
       "    <tr>\n",
       "      <th>2074</th>\n",
       "      <td>892420643555336193</td>\n",
       "      <td>https://pbs.twimg.com/media/DGKD1-bXoAAIAUK.jpg</td>\n",
       "      <td>1</td>\n",
       "      <td>orange</td>\n",
       "      <td>0.097049</td>\n",
       "      <td>False</td>\n",
       "      <td>bagel</td>\n",
       "      <td>8.585110e-02</td>\n",
       "      <td>False</td>\n",
       "      <td>banana</td>\n",
       "      <td>7.611000e-02</td>\n",
       "      <td>False</td>\n",
       "    </tr>\n",
       "  </tbody>\n",
       "</table>\n",
       "<p>324 rows × 12 columns</p>\n",
       "</div>"
      ],
      "text/plain": [
       "                tweet_id                                            jpg_url  \\\n",
       "6     666051853826850816    https://pbs.twimg.com/media/CT5KoJ1WoAAJash.jpg   \n",
       "17    666104133288665088    https://pbs.twimg.com/media/CT56LSZWoAAlJj2.jpg   \n",
       "18    666268910803644416    https://pbs.twimg.com/media/CT8QCd1WEAADXws.jpg   \n",
       "21    666293911632134144    https://pbs.twimg.com/media/CT8mx7KW4AEQu8N.jpg   \n",
       "25    666362758909284353    https://pbs.twimg.com/media/CT9lXGsUcAAyUFt.jpg   \n",
       "29    666411507551481857    https://pbs.twimg.com/media/CT-RugiWIAELEaq.jpg   \n",
       "45    666786068205871104    https://pbs.twimg.com/media/CUDmZIkWcAAIPPe.jpg   \n",
       "50    666837028449972224    https://pbs.twimg.com/media/CUEUva1WsAA2jPb.jpg   \n",
       "51    666983947667116034    https://pbs.twimg.com/media/CUGaXDhW4AY9JUH.jpg   \n",
       "53    667012601033924608    https://pbs.twimg.com/media/CUG0bC0U8AAw2su.jpg   \n",
       "56    667065535570550784    https://pbs.twimg.com/media/CUHkkJpXIAA2w3n.jpg   \n",
       "69    667188689915760640    https://pbs.twimg.com/media/CUJUk2iWUAAVtOv.jpg   \n",
       "73    667369227918143488    https://pbs.twimg.com/media/CUL4xR9UkAEdlJ6.jpg   \n",
       "77    667437278097252352    https://pbs.twimg.com/media/CUM2qWaWoAUZ06L.jpg   \n",
       "78    667443425659232256    https://pbs.twimg.com/media/CUM8QZwW4AAVsBl.jpg   \n",
       "93    667549055577362432    https://pbs.twimg.com/media/CUOcVCwWsAERUKY.jpg   \n",
       "94    667550882905632768    https://pbs.twimg.com/media/CUObvUJVEAAnYPF.jpg   \n",
       "96    667724302356258817    https://pbs.twimg.com/media/CUQ7tv3W4AA3KlI.jpg   \n",
       "98    667766675769573376    https://pbs.twimg.com/media/CURiQMnUAAAPT2M.jpg   \n",
       "100   667782464991965184    https://pbs.twimg.com/media/CURwm3cUkAARcO6.jpg   \n",
       "106   667866724293877760    https://pbs.twimg.com/media/CUS9PlUWwAANeAD.jpg   \n",
       "107   667873844930215936    https://pbs.twimg.com/media/CUTDtyGXIAARxus.jpg   \n",
       "112   667911425562669056    https://pbs.twimg.com/media/CUTl5m1WUAAabZG.jpg   \n",
       "115   667937095915278337    https://pbs.twimg.com/media/CUT9PuQWwAABQv7.jpg   \n",
       "117   668142349051129856    https://pbs.twimg.com/media/CUW37BzWsAAlJlN.jpg   \n",
       "118   668154635664932864    https://pbs.twimg.com/media/CUXDGR2WcAAUQKz.jpg   \n",
       "123   668226093875376128    https://pbs.twimg.com/media/CUYEFlQXAAUkPGm.jpg   \n",
       "130   668291999406125056    https://pbs.twimg.com/media/CUZABzGW4AE5F0k.jpg   \n",
       "132   668466899341221888    https://pbs.twimg.com/media/CUbfGbbWoAApZth.jpg   \n",
       "140   668544745690562560    https://pbs.twimg.com/media/CUcl5jeWsAA6ufS.jpg   \n",
       "...                  ...                                                ...   \n",
       "1839  837482249356513284    https://pbs.twimg.com/media/C59VqMUXEAAzldG.jpg   \n",
       "1844  838916489579200512    https://pbs.twimg.com/media/C6RkiQZUsAAM4R4.jpg   \n",
       "1847  839290600511926273    https://pbs.twimg.com/media/C6XBt9XXEAEEW9U.jpg   \n",
       "1851  840370681858686976    https://pbs.twimg.com/media/C6mYrK0UwAANhep.jpg   \n",
       "1853  840696689258311684    https://pbs.twimg.com/media/C6rBLenU0AAr8MN.jpg   \n",
       "1869  844580511645339650    https://pbs.twimg.com/media/C7iNfq1W0AAcbsR.jpg   \n",
       "1886  847962785489326080    https://pbs.twimg.com/media/C8SRpHNUIAARB3j.jpg   \n",
       "1887  847971574464610304    https://pbs.twimg.com/media/C8SZH1EWAAAIRRF.jpg   \n",
       "1891  849051919805034497    https://pbs.twimg.com/media/C8hwNxbXYAAwyVG.jpg   \n",
       "1892  849336543269576704    https://pbs.twimg.com/media/C8lzFC4XcAAQxB4.jpg   \n",
       "1900  851464819735769094    https://pbs.twimg.com/media/C9ECujZXsAAPCSM.jpg   \n",
       "1902  851861385021730816    https://pbs.twimg.com/media/C8W6sY_W0AEmttW.jpg   \n",
       "1905  852226086759018497  https://pbs.twimg.com/ext_tw_video_thumb/85222...   \n",
       "1906  852311364735569921    https://pbs.twimg.com/media/C9QEqZ7XYAIR7fS.jpg   \n",
       "1910  853299958564483072    https://pbs.twimg.com/media/C9eHyF7XgAAOxPM.jpg   \n",
       "1931  859074603037188101    https://pbs.twimg.com/media/C-wLyufW0AA546I.jpg   \n",
       "1936  860184849394610176    https://pbs.twimg.com/media/C-_9jWWUwAAnwkd.jpg   \n",
       "1937  860276583193509888    https://pbs.twimg.com/media/C_BQ_NlVwAAgYGD.jpg   \n",
       "1940  860924035999428608    https://pbs.twimg.com/media/C_KVJjDXsAEUCWn.jpg   \n",
       "1946  862457590147678208    https://pbs.twimg.com/media/C_gQmaTUMAAPYSS.jpg   \n",
       "1953  863907417377173506    https://pbs.twimg.com/media/C_03NPeUQAAgrMl.jpg   \n",
       "1956  864873206498414592    https://pbs.twimg.com/media/DAClmHkXcAA1kSv.jpg   \n",
       "1975  870063196459192321    https://pbs.twimg.com/media/DBMV3NnXUAAm0Pp.jpg   \n",
       "1979  870804317367881728    https://pbs.twimg.com/media/DBW35ZsVoAEWZUU.jpg   \n",
       "2012  879050749262655488    https://pbs.twimg.com/media/DDMD_phXoAQ1qf0.jpg   \n",
       "2021  880935762899988482    https://pbs.twimg.com/media/DDm2Z5aXUAEDS2u.jpg   \n",
       "2022  881268444196462592    https://pbs.twimg.com/media/DDrk-f9WAAI-WQv.jpg   \n",
       "2046  886680336477933568    https://pbs.twimg.com/media/DE4fEDzWAAAyHMM.jpg   \n",
       "2052  887517139158093824  https://pbs.twimg.com/ext_tw_video_thumb/88751...   \n",
       "2074  892420643555336193    https://pbs.twimg.com/media/DGKD1-bXoAAIAUK.jpg   \n",
       "\n",
       "      img_num                p1   p1_conf  p1_dog                   p2  \\\n",
       "6           1        box_turtle  0.933012   False           mud_turtle   \n",
       "17          1               hen  0.965932   False                 cock   \n",
       "18          1  desktop_computer  0.086502   False                 desk   \n",
       "21          1  three-toed_sloth  0.914671   False                otter   \n",
       "25          1        guinea_pig  0.996496   False                skunk   \n",
       "29          1              coho  0.404640   False           barracouta   \n",
       "45          1             snail  0.999888   False                 slug   \n",
       "50          1       triceratops  0.442113   False            armadillo   \n",
       "51          1              swab  0.589446   False            chain_saw   \n",
       "53          1             hyena  0.987230   False  African_hunting_dog   \n",
       "56          1     jigsaw_puzzle  0.560001   False              doormat   \n",
       "69          1            vacuum  0.335830   False                 swab   \n",
       "73          1             teddy  0.709545   False           bath_towel   \n",
       "77          1         porcupine  0.989154   False           bath_towel   \n",
       "78          1             goose  0.980815   False                drake   \n",
       "93          1      electric_fan  0.984377   False            spotlight   \n",
       "94          1          web_site  0.998258   False           dishwasher   \n",
       "96          1              ibex  0.619098   False              bighorn   \n",
       "98          1       fire_engine  0.883493   False            tow_truck   \n",
       "100         1          lorikeet  0.466149   False          hummingbird   \n",
       "106         1     jigsaw_puzzle  1.000000   False           prayer_rug   \n",
       "107         1     common_iguana  0.999647   False       frilled_lizard   \n",
       "112         1    frilled_lizard  0.257695   False                   ox   \n",
       "115         1           hamster  0.172078   False           guinea_pig   \n",
       "117         1            Angora  0.918834   False                  hen   \n",
       "118         1        Arctic_fox  0.473584   False              wallaby   \n",
       "123         1          trombone  0.390339   False               cornet   \n",
       "130         1          web_site  0.995535   False                skunk   \n",
       "132         1   shopping_basket  0.398361   False               hamper   \n",
       "140         1          bearskin  0.427870   False                  bow   \n",
       "...       ...               ...       ...     ...                  ...   \n",
       "1839        2         birdhouse  0.541196   False           can_opener   \n",
       "1844        2          web_site  0.993651   False              monitor   \n",
       "1847        1          web_site  0.670892   False              monitor   \n",
       "1851        1            teapot  0.981819   False                  cup   \n",
       "1853        1          web_site  0.841768   False                 rule   \n",
       "1869        1            washer  0.903064   False           dishwasher   \n",
       "1886        1          sea_lion  0.882654   False                 mink   \n",
       "1887        1        coffee_mug  0.633652   False                  cup   \n",
       "1891        1          fountain  0.997509   False  American_black_bear   \n",
       "1892        1             patio  0.521788   False               prison   \n",
       "1900        2          web_site  0.919649   False                 menu   \n",
       "1902        1        pencil_box  0.662183   False                purse   \n",
       "1905        1            prison  0.352793   False           dishwasher   \n",
       "1906        1           barbell  0.971581   False             dumbbell   \n",
       "1910        1            grille  0.652280   False          beach_wagon   \n",
       "1931        1          revolver  0.190292   False           projectile   \n",
       "1936        1        chimpanzee  0.267612   False              gorilla   \n",
       "1937        1          lakeside  0.312299   False                 dock   \n",
       "1940        2          envelope  0.933016   False         oscilloscope   \n",
       "1946        1      home_theater  0.496348   False         studio_couch   \n",
       "1953        1            marmot  0.358828   False              meerkat   \n",
       "1956        2              pole  0.478616   False             lakeside   \n",
       "1975        1        comic_book  0.534409   False             envelope   \n",
       "1979        1      home_theater  0.168290   False              sandbar   \n",
       "2012        1             tabby  0.311861   False        window_screen   \n",
       "2021        1       street_sign  0.251801   False             umbrella   \n",
       "2022        1            tusker  0.473303   False      Indian_elephant   \n",
       "2046        1       convertible  0.738995   False           sports_car   \n",
       "2052        1         limousine  0.130432   False            tow_truck   \n",
       "2074        1            orange  0.097049   False                bagel   \n",
       "\n",
       "           p2_conf  p2_dog                  p3       p3_conf  p3_dog  \n",
       "6     4.588540e-02   False            terrapin  1.788530e-02   False  \n",
       "17    3.391940e-02   False           partridge  5.206580e-05   False  \n",
       "18    8.554740e-02   False            bookcase  7.947970e-02   False  \n",
       "21    1.525000e-02   False      great_grey_owl  1.320720e-02   False  \n",
       "25    2.402450e-03   False             hamster  4.608630e-04   False  \n",
       "29    2.714850e-01   False                 gar  1.899450e-01   False  \n",
       "45    5.514170e-05   False               acorn  2.625800e-05   False  \n",
       "50    1.140710e-01   False       common_iguana  4.325530e-02   False  \n",
       "51    1.901420e-01   False                 wig  3.450970e-02   False  \n",
       "53    1.260080e-02   False              coyote  5.735010e-05   False  \n",
       "56    1.032590e-01   False        space_heater  4.256800e-02   False  \n",
       "69    2.652780e-01   False       toilet_tissue  1.407030e-01   False  \n",
       "73    1.272850e-01   False  Christmas_stocking  2.856750e-02   False  \n",
       "77    6.300490e-03   False              badger  9.663400e-04   False  \n",
       "78    6.917770e-03   False                 hen  5.255170e-03   False  \n",
       "93    7.736710e-03   False           lampshade  1.901230e-03   False  \n",
       "94    2.010840e-04   False        oscilloscope  1.417360e-04   False  \n",
       "96    1.251190e-01   False                 ram  7.467320e-02   False  \n",
       "98    7.473390e-02   False                jeep  1.277260e-02   False  \n",
       "100   8.301100e-02   False        African_grey  5.424740e-02   False  \n",
       "106   1.011300e-08   False             doormat  1.740170e-10   False  \n",
       "107   1.811500e-04   False   African_chameleon  1.283570e-04   False  \n",
       "112   2.351600e-01   False         triceratops  8.531690e-02   False  \n",
       "115   9.492420e-02   False            Band_Aid  5.999520e-02   False  \n",
       "117   3.779340e-02   False         wood_rabbit  1.101490e-02   False  \n",
       "118   2.614110e-01   False          white_wolf  8.094780e-02   False  \n",
       "123   3.141490e-01   False         French_horn  2.551820e-01   False  \n",
       "130   1.363490e-03   False              badger  6.856500e-04   False  \n",
       "132   3.632220e-01   False            bassinet  8.417350e-02   False  \n",
       "140   2.588580e-01   False             panpipe  2.156260e-02   False  \n",
       "...            ...     ...                 ...           ...     ...  \n",
       "1839  1.210940e-01   False              carton  5.613670e-02   False  \n",
       "1844  1.405900e-03   False            envelope  1.093090e-03   False  \n",
       "1847  1.015650e-01   False              screen  7.530610e-02   False  \n",
       "1851  1.402580e-02   False           coffeepot  2.420540e-03   False  \n",
       "1853  7.087310e-03   False            envelope  6.820300e-03   False  \n",
       "1869  3.248900e-02   False             printer  1.645620e-02   False  \n",
       "1886  6.688020e-02   False               otter  2.567870e-02   False  \n",
       "1887  2.733920e-01   False       toilet_tissue  6.665580e-02   False  \n",
       "1891  1.413120e-03   False             sundial  6.811150e-04   False  \n",
       "1892  1.495440e-01   False          restaurant  2.715260e-02   False  \n",
       "1900  2.630610e-02   False    crossword_puzzle  3.481510e-03   False  \n",
       "1902  6.650550e-02   False              pillow  4.472530e-02   False  \n",
       "1905  1.107230e-01   False                file  9.411200e-02   False  \n",
       "1906  2.841790e-02   False             go-kart  5.595040e-07   False  \n",
       "1910  1.128460e-01   False         convertible  8.625230e-02   False  \n",
       "1931  1.490640e-01   False            fountain  6.604660e-02   False  \n",
       "1936  1.042930e-01   False           orangutan  5.990750e-02   False  \n",
       "1937  1.598420e-01   False               canoe  7.079450e-02   False  \n",
       "1940  1.259140e-02   False         paper_towel  1.117850e-02   False  \n",
       "1946  1.672560e-01   False        barber_chair  5.262500e-02   False  \n",
       "1953  1.747030e-01   False              weasel  1.234850e-01   False  \n",
       "1956  1.141820e-01   False               wreck  5.592650e-02   False  \n",
       "1975  2.807220e-01   False         book_jacket  4.378550e-02   False  \n",
       "1979  9.804040e-02   False          television  7.972940e-02   False  \n",
       "2012  1.691230e-01   False        Egyptian_cat  1.329320e-01   False  \n",
       "2021  1.151230e-01   False       traffic_light  6.953380e-02   False  \n",
       "2022  2.456460e-01   False                ibex  5.566070e-02   False  \n",
       "2046  1.399520e-01   False           car_wheel  4.417270e-02   False  \n",
       "2052  2.917540e-02   False       shopping_cart  2.632080e-02   False  \n",
       "2074  8.585110e-02   False              banana  7.611000e-02   False  \n",
       "\n",
       "[324 rows x 12 columns]"
      ]
     },
     "execution_count": 15,
     "metadata": {},
     "output_type": "execute_result"
    }
   ],
   "source": [
    "prediction_df.query(\"p1_dog == False and p2_dog == False and p3_dog == False\")"
   ]
  },
  {
   "cell_type": "markdown",
   "metadata": {},
   "source": [
    "12. According to the neural networks classifications, some images are very unlikely to be dog images."
   ]
  },
  {
   "cell_type": "markdown",
   "metadata": {},
   "source": [
    "<a id='assess_api'> </a>\n",
    "### 3.3. API data"
   ]
  },
  {
   "cell_type": "code",
   "execution_count": 16,
   "metadata": {},
   "outputs": [
    {
     "data": {
      "text/html": [
       "<div>\n",
       "<style scoped>\n",
       "    .dataframe tbody tr th:only-of-type {\n",
       "        vertical-align: middle;\n",
       "    }\n",
       "\n",
       "    .dataframe tbody tr th {\n",
       "        vertical-align: top;\n",
       "    }\n",
       "\n",
       "    .dataframe thead th {\n",
       "        text-align: right;\n",
       "    }\n",
       "</style>\n",
       "<table border=\"1\" class=\"dataframe\">\n",
       "  <thead>\n",
       "    <tr style=\"text-align: right;\">\n",
       "      <th></th>\n",
       "      <th>tweet_id</th>\n",
       "      <th>retweet_count</th>\n",
       "      <th>favorite_count</th>\n",
       "    </tr>\n",
       "  </thead>\n",
       "  <tbody>\n",
       "    <tr>\n",
       "      <th>0</th>\n",
       "      <td>892420643555336193</td>\n",
       "      <td>8853</td>\n",
       "      <td>39467</td>\n",
       "    </tr>\n",
       "    <tr>\n",
       "      <th>1</th>\n",
       "      <td>892177421306343426</td>\n",
       "      <td>6514</td>\n",
       "      <td>33819</td>\n",
       "    </tr>\n",
       "    <tr>\n",
       "      <th>2</th>\n",
       "      <td>891815181378084864</td>\n",
       "      <td>4328</td>\n",
       "      <td>25461</td>\n",
       "    </tr>\n",
       "    <tr>\n",
       "      <th>3</th>\n",
       "      <td>891689557279858688</td>\n",
       "      <td>8964</td>\n",
       "      <td>42908</td>\n",
       "    </tr>\n",
       "    <tr>\n",
       "      <th>4</th>\n",
       "      <td>891327558926688256</td>\n",
       "      <td>9774</td>\n",
       "      <td>41048</td>\n",
       "    </tr>\n",
       "  </tbody>\n",
       "</table>\n",
       "</div>"
      ],
      "text/plain": [
       "             tweet_id  retweet_count  favorite_count\n",
       "0  892420643555336193           8853           39467\n",
       "1  892177421306343426           6514           33819\n",
       "2  891815181378084864           4328           25461\n",
       "3  891689557279858688           8964           42908\n",
       "4  891327558926688256           9774           41048"
      ]
     },
     "execution_count": 16,
     "metadata": {},
     "output_type": "execute_result"
    }
   ],
   "source": [
    "api_df.head()"
   ]
  },
  {
   "cell_type": "code",
   "execution_count": 17,
   "metadata": {},
   "outputs": [
    {
     "name": "stdout",
     "output_type": "stream",
     "text": [
      "<class 'pandas.core.frame.DataFrame'>\n",
      "RangeIndex: 2354 entries, 0 to 2353\n",
      "Data columns (total 3 columns):\n",
      "tweet_id          2354 non-null int64\n",
      "retweet_count     2354 non-null int64\n",
      "favorite_count    2354 non-null int64\n",
      "dtypes: int64(3)\n",
      "memory usage: 55.2 KB\n"
     ]
    }
   ],
   "source": [
    "api_df.info()"
   ]
  },
  {
   "cell_type": "markdown",
   "metadata": {},
   "source": [
    "13. Erroneous datatype for column: tweet_id.\n",
    "14. This table has complementary data to Archive table."
   ]
  },
  {
   "cell_type": "markdown",
   "metadata": {},
   "source": [
    "15. Missing 2 records of retweet_count and favorite_count (2354 instead of 2356 rows)"
   ]
  },
  {
   "cell_type": "markdown",
   "metadata": {},
   "source": [
    "<a id='assess_summary'> </a>\n",
    "\n",
    "### Assessement Summary\n",
    "\n",
    "#### Quality:\n",
    "\n",
    "##### Archive table:\n",
    "\n",
    "- Missing values for columns: doggo, floofer, pupper, puppo\n",
    "- None instead of Nan in columns name, doggo, floofer, pupper and puppo\n",
    "- There are 181 retweets (which should not be included in the dataset).\n",
    "- There are columns which I do not plan to use in my analysis:\n",
    "    - in_reply_to_status_id, in_reply_to_user_id\n",
    "    - expanded_urls\n",
    "    - name\n",
    "    - retweeted_status_id, retweeted_status_user_id, retweeted_status_timestamp (once retweets are dealt with these columns will be unnecessary)\n",
    "- Erroneous datatype in columns: tweet_id, timestamp, (doggo, floofer, pupper, and puppo) which will be represented in 1 column(dogtype).\n",
    "- Source is given as a html anchor tag which is not necessary since there are only 4 different values, which can be labeled:\n",
    "    - iPhone\n",
    "    - Vine\n",
    "    - web client\n",
    "    - TweetDeck\n",
    "- rating_denominator and rating_numerator have outliers.\n",
    "\n",
    "##### Prediction table:\n",
    "\n",
    "- Since there are 2075 rows in predictions table and 2356 rows in the archive table, there must be missing images for some tweets\n",
    "- Erroneous datatype for column: tweet_id.\n",
    "- According to the neural networks classifications, some images are very unlikely to be dog images.\n",
    "\n",
    "##### Api table:\n",
    "- Erroneous datatype for column: tweet_id.\n",
    "- Missing 2 records of retweet_count and favorite_count (2354 instead of 2356 rows)\n",
    "\n",
    "#### Tidiness:\n",
    "\n",
    "##### Archive table:\n",
    "\n",
    "- Those 4 columns (doggo, floofer, pupper, puppo) represent the same type of information (dog type)\n",
    "- rating_denominator and rating_numerator represent the 2 components for rating a dog\n",
    "\n",
    "##### Prediction table:\n",
    "- The last 9 columns prediction table represent the same group of information(prediction, confidence, isDog)\n",
    "\n",
    "##### api table:\n",
    "- This table has complementary data to Archive table."
   ]
  },
  {
   "cell_type": "markdown",
   "metadata": {},
   "source": [
    "***\n",
    "<a id='cleaning'> </a>\n",
    "\n",
    "## 4. Cleaning"
   ]
  },
  {
   "cell_type": "code",
   "execution_count": 18,
   "metadata": {},
   "outputs": [],
   "source": [
    "# make copies to conserve the original data\n",
    "archive_clean = archive_df.copy()\n",
    "prediction_clean = prediction_df.copy()\n",
    "api_clean = api_df.copy()"
   ]
  },
  {
   "cell_type": "markdown",
   "metadata": {},
   "source": [
    "<a id='clean_missing_data'> </a>\n",
    "### 4.1. Missing data"
   ]
  },
  {
   "cell_type": "markdown",
   "metadata": {},
   "source": [
    "#### All issues:\n",
    "\n",
    "- Missing values for columns: doggo, floofer, pupper, puppo.\n",
    "- None instead of Nan in columns name, doggo, floofer, pupper and puppo.\n",
    "- Since there are 2075 rows in predictions table and 2356 rows in the archive table, there must be missing images for some tweets\n",
    "- Missing 2 records of retweet_count and favorite_count (2354 instead of 2356 rows)."
   ]
  },
  {
   "cell_type": "markdown",
   "metadata": {},
   "source": [
    "***\n",
    "#### Issue:\n",
    "\n",
    "- None instead of Nan in columns doggo, floofer, pupper, puppo.\n",
    "- Missing values for columns: doggo, floofer, pupper, puppo.\n",
    "\n",
    "These 2 issues will be dealt with at the same time\n",
    "\n",
    "#### Define\n",
    "- use the contains and replace methods to extract dogtypes from the text column \n",
    "- replace the dogtype columns with the respective ones extracted from the text column\n",
    "\n",
    "#### Code"
   ]
  },
  {
   "cell_type": "code",
   "execution_count": 19,
   "metadata": {},
   "outputs": [],
   "source": [
    "def corrected_dogtype_column(df, dogtype):\n",
    "    \"\"\"This function extracts dog types from the text column and returns them as a column \"\"\"\n",
    "    return archive_clean.text.str.contains(dogtype, case= False).replace(True, dogtype).replace(False, np.nan)"
   ]
  },
  {
   "cell_type": "code",
   "execution_count": 20,
   "metadata": {},
   "outputs": [],
   "source": [
    "dog_types = [\"doggo\", \"floofer\", \"pupper\", \"puppo\"]\n",
    "\n",
    "# correct each dogtype column on it's own\n",
    "for dog_type in dog_types:\n",
    "    archive_clean[dog_type] = corrected_dogtype_column(archive_clean, dog_type)\n",
    "    "
   ]
  },
  {
   "cell_type": "markdown",
   "metadata": {},
   "source": [
    "#### Test"
   ]
  },
  {
   "cell_type": "code",
   "execution_count": 21,
   "metadata": {
    "scrolled": true
   },
   "outputs": [
    {
     "name": "stdout",
     "output_type": "stream",
     "text": [
      "number of Nones: 0\n"
     ]
    },
    {
     "data": {
      "text/html": [
       "<div>\n",
       "<style scoped>\n",
       "    .dataframe tbody tr th:only-of-type {\n",
       "        vertical-align: middle;\n",
       "    }\n",
       "\n",
       "    .dataframe tbody tr th {\n",
       "        vertical-align: top;\n",
       "    }\n",
       "\n",
       "    .dataframe thead th {\n",
       "        text-align: right;\n",
       "    }\n",
       "</style>\n",
       "<table border=\"1\" class=\"dataframe\">\n",
       "  <thead>\n",
       "    <tr style=\"text-align: right;\">\n",
       "      <th></th>\n",
       "      <th>doggo</th>\n",
       "      <th>floofer</th>\n",
       "      <th>pupper</th>\n",
       "      <th>puppo</th>\n",
       "    </tr>\n",
       "  </thead>\n",
       "  <tbody>\n",
       "    <tr>\n",
       "      <th>doggo</th>\n",
       "      <td>107.0</td>\n",
       "      <td>NaN</td>\n",
       "      <td>NaN</td>\n",
       "      <td>NaN</td>\n",
       "    </tr>\n",
       "    <tr>\n",
       "      <th>floofer</th>\n",
       "      <td>NaN</td>\n",
       "      <td>10.0</td>\n",
       "      <td>NaN</td>\n",
       "      <td>NaN</td>\n",
       "    </tr>\n",
       "    <tr>\n",
       "      <th>pupper</th>\n",
       "      <td>NaN</td>\n",
       "      <td>NaN</td>\n",
       "      <td>283.0</td>\n",
       "      <td>NaN</td>\n",
       "    </tr>\n",
       "    <tr>\n",
       "      <th>puppo</th>\n",
       "      <td>NaN</td>\n",
       "      <td>NaN</td>\n",
       "      <td>NaN</td>\n",
       "      <td>38.0</td>\n",
       "    </tr>\n",
       "  </tbody>\n",
       "</table>\n",
       "</div>"
      ],
      "text/plain": [
       "         doggo  floofer  pupper  puppo\n",
       "doggo    107.0      NaN     NaN    NaN\n",
       "floofer    NaN     10.0     NaN    NaN\n",
       "pupper     NaN      NaN   283.0    NaN\n",
       "puppo      NaN      NaN     NaN   38.0"
      ]
     },
     "execution_count": 21,
     "metadata": {},
     "output_type": "execute_result"
    }
   ],
   "source": [
    "# Get number of None values  for each dogtype\n",
    "none_sum = 0\n",
    "for dog_type in dog_types:\n",
    "    none_sum += (archive_clean[dog_type] == 'None').sum()\n",
    "#\n",
    "# This should be zero\n",
    "print (\"number of Nones: {}\".format(none_sum))\n",
    "\n",
    "## test number of values ...\n",
    "archive_clean[[\"doggo\", \"floofer\", \"pupper\", \"puppo\"]].apply(pd.Series.value_counts)"
   ]
  },
  {
   "cell_type": "code",
   "execution_count": 22,
   "metadata": {},
   "outputs": [
    {
     "name": "stdout",
     "output_type": "stream",
     "text": [
      "Number of dog types provided : 438\n"
     ]
    }
   ],
   "source": [
    "print(\"Number of dog types provided : {}\".format(107 + 10 + 283 + 38 ))\n"
   ]
  },
  {
   "cell_type": "markdown",
   "metadata": {},
   "source": [
    "438 - 394 = 44 dog type instances were extracted from the text column"
   ]
  },
  {
   "cell_type": "markdown",
   "metadata": {},
   "source": [
    "***\n",
    "#### Issue\n",
    "Since there are 2075 rows in predictions table and 2356 rows in the archive table, there must be missing images for some tweets\n",
    "\n",
    "#### Define\n",
    "\n",
    "- create a masc for the archive tweet_ids  that are in prediction tweet_ids\n",
    "- use the masc to select tweet_ids from archive\n",
    "\n",
    "#### Code\n"
   ]
  },
  {
   "cell_type": "code",
   "execution_count": 23,
   "metadata": {},
   "outputs": [],
   "source": [
    "tweet_with_img = archive_clean.tweet_id.isin( prediction_clean.tweet_id)\n",
    "archive_clean = archive_clean[tweet_with_img]"
   ]
  },
  {
   "cell_type": "markdown",
   "metadata": {},
   "source": [
    "#### Test"
   ]
  },
  {
   "cell_type": "code",
   "execution_count": 24,
   "metadata": {
    "scrolled": true
   },
   "outputs": [
    {
     "data": {
      "text/plain": [
       "0"
      ]
     },
     "execution_count": 24,
     "metadata": {},
     "output_type": "execute_result"
    }
   ],
   "source": [
    "# This should be zero\n",
    "(archive_clean.tweet_id.isin(prediction_clean.tweet_id) == False ).sum()"
   ]
  },
  {
   "cell_type": "markdown",
   "metadata": {},
   "source": [
    "Ressource \n",
    "\n",
    "- [ pandas isin ](https://pandas.pydata.org/pandas-docs/stable/reference/api/pandas.DataFrame.isin.html)"
   ]
  },
  {
   "cell_type": "markdown",
   "metadata": {},
   "source": [
    "***\n",
    "#### Issue\n",
    "\n",
    "- Missing 2 records of retweet_count and favorite_count (2354 instead of 2356 rows).\n",
    "\n",
    "#### Define\n",
    "- create a masc for the archive tweet_ids  that are in api tweet_ids\n",
    "- use the masc to select tweet_ids from archive\n",
    "\n",
    "#### Code"
   ]
  },
  {
   "cell_type": "code",
   "execution_count": 25,
   "metadata": {},
   "outputs": [],
   "source": [
    "tweet_with_recs = archive_clean.tweet_id.isin( api_clean.tweet_id)\n",
    "archive_clean = archive_clean[tweet_with_recs]"
   ]
  },
  {
   "cell_type": "markdown",
   "metadata": {},
   "source": [
    "#### Test"
   ]
  },
  {
   "cell_type": "code",
   "execution_count": 26,
   "metadata": {},
   "outputs": [
    {
     "data": {
      "text/plain": [
       "0"
      ]
     },
     "execution_count": 26,
     "metadata": {},
     "output_type": "execute_result"
    }
   ],
   "source": [
    "# This should be zero\n",
    "(archive_clean.tweet_id.isin(api_clean.tweet_id) == False ).sum()"
   ]
  },
  {
   "cell_type": "markdown",
   "metadata": {},
   "source": [
    "<a id='clean_tidiness'> </a>\n",
    "### 4.2. Tidiness\n",
    "\n",
    "##### Archive table:\n",
    "\n",
    "- Those 4 columns (\"doggo\", \"floofer\", \"pupper\", \"puppo\") represent the same type of information (dog type)\n",
    "- rating_denominator and rating_numerator represent the 2 components for rating a dog\n",
    "\n",
    "##### Prediction table:\n",
    "- The last 9 columns prediction table  represent the same type of information(prediction, confidence, isDog)\n",
    "\n",
    "##### api table:\n",
    "- This table (api table) has complementary data to Archive table."
   ]
  },
  {
   "cell_type": "markdown",
   "metadata": {},
   "source": [
    "***\n",
    "#### Issue\n",
    "\n",
    "- Those 4 columns (\"doggo\", \"floofer\", \"pupper\", \"puppo\") represent the same type of information (dog type)\n",
    "\n",
    "#### Define\n",
    "- write a function that merges a list of values\n",
    "    - if all values are nan : returns nan\n",
    "    - else join non nan values\n",
    "- loop through the dataset rows and create a list of merged values of the concerned columns (using the function above)\n",
    "- create a new column in the dataset using this new list\n",
    "- drop the 4 columns\n",
    "\n",
    "#### Code"
   ]
  },
  {
   "cell_type": "code",
   "execution_count": 27,
   "metadata": {},
   "outputs": [],
   "source": [
    "def merge_values(vals):\n",
    "    \n",
    "    \"\"\"This function merges a list of values,\n",
    "        if all values a NaN => returns Nan\n",
    "        else joins the non Nan values\n",
    "    \"\"\"\n",
    "    s = pd.Series(vals)\n",
    "    \n",
    "    if (s.isnull().all()):\n",
    "        return np.nan\n",
    "    \n",
    "    return \", \".join(s.dropna())"
   ]
  },
  {
   "cell_type": "code",
   "execution_count": 28,
   "metadata": {},
   "outputs": [],
   "source": [
    "def merge_columns_values(df):\n",
    "    \n",
    "    \"\"\"This function loops through the df rows and merges the values of \n",
    "    the 4 dogtype columns\"\"\"\n",
    "    \n",
    "    types = []\n",
    "    for index, row in df.iterrows():\n",
    "        types.append(merge_values([row[\"doggo\"], row[\"floofer\"], row[\"pupper\"], row[\"puppo\"]]))\n",
    "    \n",
    "    return types"
   ]
  },
  {
   "cell_type": "code",
   "execution_count": 29,
   "metadata": {},
   "outputs": [],
   "source": [
    "archive_clean[\"dogtype\"] = merge_columns_values(archive_clean)\n",
    "archive_clean.drop(columns=[\"doggo\", \"floofer\", \"pupper\", \"puppo\"], inplace = True)"
   ]
  },
  {
   "cell_type": "markdown",
   "metadata": {},
   "source": [
    "#### Test"
   ]
  },
  {
   "cell_type": "code",
   "execution_count": 30,
   "metadata": {},
   "outputs": [
    {
     "data": {
      "text/plain": [
       "1232    NaN\n",
       "805     NaN\n",
       "1841    NaN\n",
       "1408    NaN\n",
       "2334    NaN\n",
       "1737    NaN\n",
       "1468    NaN\n",
       "1665    NaN\n",
       "969     NaN\n",
       "2019    NaN\n",
       "Name: dogtype, dtype: object"
      ]
     },
     "execution_count": 30,
     "metadata": {},
     "output_type": "execute_result"
    }
   ],
   "source": [
    "archive_clean[ \"dogtype\"].sample(10)"
   ]
  },
  {
   "cell_type": "code",
   "execution_count": 31,
   "metadata": {
    "scrolled": true
   },
   "outputs": [
    {
     "data": {
      "text/plain": [
       "pupper            235\n",
       "doggo              72\n",
       "puppo              28\n",
       "doggo, pupper      11\n",
       "floofer             7\n",
       "doggo, puppo        2\n",
       "doggo, floofer      1\n",
       "Name: dogtype, dtype: int64"
      ]
     },
     "execution_count": 31,
     "metadata": {},
     "output_type": "execute_result"
    }
   ],
   "source": [
    "archive_clean[ \"dogtype\"].value_counts()"
   ]
  },
  {
   "cell_type": "code",
   "execution_count": 32,
   "metadata": {},
   "outputs": [
    {
     "name": "stdout",
     "output_type": "stream",
     "text": [
      "Number of dog types provided : 357\n"
     ]
    }
   ],
   "source": [
    "print(\"Number of dog types provided : {}\".format(236 + 72 + 28 + 11 + 7 + 2 + 1 ))"
   ]
  },
  {
   "cell_type": "markdown",
   "metadata": {},
   "source": [
    "- It appears that some values were lost, and that's because of the rows that were dropped when dealing with tweets that have no images in the prediction table (2356 - 2075 = 281 rows were dropped)    \n",
    "- Some dogs have 2 types, ex: doggo/pupper"
   ]
  },
  {
   "cell_type": "markdown",
   "metadata": {},
   "source": [
    "***\n",
    "#### Issue\n",
    "- rating_denominator and rating_numerator represent the 2 components for rating a dog, they should be transformed into 1 column: rating\n",
    "\n",
    "#### Define\n",
    "- create a new column 'ratings' which will be calculated as rating_numerator/rating_denominator.\n",
    "- drop rating_denominator and rating_numerator. (will be done later, when droping useless columns)\n",
    "\n",
    "#### Code"
   ]
  },
  {
   "cell_type": "code",
   "execution_count": 33,
   "metadata": {},
   "outputs": [],
   "source": [
    "archive_clean['ratings'] = archive_clean.rating_numerator / archive_clean.rating_denominator"
   ]
  },
  {
   "cell_type": "markdown",
   "metadata": {},
   "source": [
    "#### Test"
   ]
  },
  {
   "cell_type": "code",
   "execution_count": 34,
   "metadata": {},
   "outputs": [
    {
     "data": {
      "text/plain": [
       "469     1.2\n",
       "760     1.3\n",
       "1378    0.9\n",
       "324     1.2\n",
       "13      1.2\n",
       "Name: ratings, dtype: float64"
      ]
     },
     "execution_count": 34,
     "metadata": {},
     "output_type": "execute_result"
    }
   ],
   "source": [
    "archive_clean.ratings.sample(5)"
   ]
  },
  {
   "cell_type": "code",
   "execution_count": 35,
   "metadata": {},
   "outputs": [
    {
     "data": {
      "text/plain": [
       "count    2073.000000\n",
       "mean        1.169987\n",
       "std         3.988880\n",
       "min         0.000000\n",
       "25%         1.000000\n",
       "50%         1.100000\n",
       "75%         1.200000\n",
       "max       177.600000\n",
       "Name: ratings, dtype: float64"
      ]
     },
     "execution_count": 35,
     "metadata": {},
     "output_type": "execute_result"
    }
   ],
   "source": [
    "archive_clean.ratings.describe()"
   ]
  },
  {
   "cell_type": "markdown",
   "metadata": {},
   "source": [
    "- We notice once again the presence of outliers in the ratings column, this is due to the outliers in rating_numerator and rating_denominator"
   ]
  },
  {
   "cell_type": "markdown",
   "metadata": {},
   "source": [
    "***\n",
    "#### Issue \n",
    "\n",
    "- This table (api) has complementary data to Archive table.\n",
    "\n",
    "#### Define\n",
    "\n",
    "- use pandas 'merge' method to merge the archive table and api table on tweet_id\n",
    "\n",
    "#### Code"
   ]
  },
  {
   "cell_type": "code",
   "execution_count": 36,
   "metadata": {
    "scrolled": true
   },
   "outputs": [],
   "source": [
    "archive_clean = pd.merge(left=archive_clean, right=api_clean, how='left', on='tweet_id')"
   ]
  },
  {
   "cell_type": "code",
   "execution_count": 37,
   "metadata": {},
   "outputs": [
    {
     "data": {
      "text/html": [
       "<div>\n",
       "<style scoped>\n",
       "    .dataframe tbody tr th:only-of-type {\n",
       "        vertical-align: middle;\n",
       "    }\n",
       "\n",
       "    .dataframe tbody tr th {\n",
       "        vertical-align: top;\n",
       "    }\n",
       "\n",
       "    .dataframe thead th {\n",
       "        text-align: right;\n",
       "    }\n",
       "</style>\n",
       "<table border=\"1\" class=\"dataframe\">\n",
       "  <thead>\n",
       "    <tr style=\"text-align: right;\">\n",
       "      <th></th>\n",
       "      <th>tweet_id</th>\n",
       "      <th>in_reply_to_status_id</th>\n",
       "      <th>in_reply_to_user_id</th>\n",
       "      <th>timestamp</th>\n",
       "      <th>source</th>\n",
       "      <th>text</th>\n",
       "      <th>retweeted_status_id</th>\n",
       "      <th>retweeted_status_user_id</th>\n",
       "      <th>retweeted_status_timestamp</th>\n",
       "      <th>expanded_urls</th>\n",
       "      <th>rating_numerator</th>\n",
       "      <th>rating_denominator</th>\n",
       "      <th>name</th>\n",
       "      <th>dogtype</th>\n",
       "      <th>ratings</th>\n",
       "      <th>retweet_count</th>\n",
       "      <th>favorite_count</th>\n",
       "    </tr>\n",
       "  </thead>\n",
       "  <tbody>\n",
       "    <tr>\n",
       "      <th>0</th>\n",
       "      <td>892420643555336193</td>\n",
       "      <td>NaN</td>\n",
       "      <td>NaN</td>\n",
       "      <td>2017-08-01 16:23:56 +0000</td>\n",
       "      <td>&lt;a href=\"http://twitter.com/download/iphone\" r...</td>\n",
       "      <td>This is Phineas. He's a mystical boy. Only eve...</td>\n",
       "      <td>NaN</td>\n",
       "      <td>NaN</td>\n",
       "      <td>NaN</td>\n",
       "      <td>https://twitter.com/dog_rates/status/892420643...</td>\n",
       "      <td>13</td>\n",
       "      <td>10</td>\n",
       "      <td>Phineas</td>\n",
       "      <td>NaN</td>\n",
       "      <td>1.3</td>\n",
       "      <td>8853</td>\n",
       "      <td>39467</td>\n",
       "    </tr>\n",
       "    <tr>\n",
       "      <th>1</th>\n",
       "      <td>892177421306343426</td>\n",
       "      <td>NaN</td>\n",
       "      <td>NaN</td>\n",
       "      <td>2017-08-01 00:17:27 +0000</td>\n",
       "      <td>&lt;a href=\"http://twitter.com/download/iphone\" r...</td>\n",
       "      <td>This is Tilly. She's just checking pup on you....</td>\n",
       "      <td>NaN</td>\n",
       "      <td>NaN</td>\n",
       "      <td>NaN</td>\n",
       "      <td>https://twitter.com/dog_rates/status/892177421...</td>\n",
       "      <td>13</td>\n",
       "      <td>10</td>\n",
       "      <td>Tilly</td>\n",
       "      <td>NaN</td>\n",
       "      <td>1.3</td>\n",
       "      <td>6514</td>\n",
       "      <td>33819</td>\n",
       "    </tr>\n",
       "    <tr>\n",
       "      <th>2</th>\n",
       "      <td>891815181378084864</td>\n",
       "      <td>NaN</td>\n",
       "      <td>NaN</td>\n",
       "      <td>2017-07-31 00:18:03 +0000</td>\n",
       "      <td>&lt;a href=\"http://twitter.com/download/iphone\" r...</td>\n",
       "      <td>This is Archie. He is a rare Norwegian Pouncin...</td>\n",
       "      <td>NaN</td>\n",
       "      <td>NaN</td>\n",
       "      <td>NaN</td>\n",
       "      <td>https://twitter.com/dog_rates/status/891815181...</td>\n",
       "      <td>12</td>\n",
       "      <td>10</td>\n",
       "      <td>Archie</td>\n",
       "      <td>NaN</td>\n",
       "      <td>1.2</td>\n",
       "      <td>4328</td>\n",
       "      <td>25461</td>\n",
       "    </tr>\n",
       "  </tbody>\n",
       "</table>\n",
       "</div>"
      ],
      "text/plain": [
       "             tweet_id  in_reply_to_status_id  in_reply_to_user_id  \\\n",
       "0  892420643555336193                    NaN                  NaN   \n",
       "1  892177421306343426                    NaN                  NaN   \n",
       "2  891815181378084864                    NaN                  NaN   \n",
       "\n",
       "                   timestamp  \\\n",
       "0  2017-08-01 16:23:56 +0000   \n",
       "1  2017-08-01 00:17:27 +0000   \n",
       "2  2017-07-31 00:18:03 +0000   \n",
       "\n",
       "                                              source  \\\n",
       "0  <a href=\"http://twitter.com/download/iphone\" r...   \n",
       "1  <a href=\"http://twitter.com/download/iphone\" r...   \n",
       "2  <a href=\"http://twitter.com/download/iphone\" r...   \n",
       "\n",
       "                                                text  retweeted_status_id  \\\n",
       "0  This is Phineas. He's a mystical boy. Only eve...                  NaN   \n",
       "1  This is Tilly. She's just checking pup on you....                  NaN   \n",
       "2  This is Archie. He is a rare Norwegian Pouncin...                  NaN   \n",
       "\n",
       "   retweeted_status_user_id retweeted_status_timestamp  \\\n",
       "0                       NaN                        NaN   \n",
       "1                       NaN                        NaN   \n",
       "2                       NaN                        NaN   \n",
       "\n",
       "                                       expanded_urls  rating_numerator  \\\n",
       "0  https://twitter.com/dog_rates/status/892420643...                13   \n",
       "1  https://twitter.com/dog_rates/status/892177421...                13   \n",
       "2  https://twitter.com/dog_rates/status/891815181...                12   \n",
       "\n",
       "   rating_denominator     name dogtype  ratings  retweet_count  favorite_count  \n",
       "0                  10  Phineas     NaN      1.3           8853           39467  \n",
       "1                  10    Tilly     NaN      1.3           6514           33819  \n",
       "2                  10   Archie     NaN      1.2           4328           25461  "
      ]
     },
     "execution_count": 37,
     "metadata": {},
     "output_type": "execute_result"
    }
   ],
   "source": [
    "archive_clean.head(3)"
   ]
  },
  {
   "cell_type": "code",
   "execution_count": 38,
   "metadata": {},
   "outputs": [
    {
     "name": "stdout",
     "output_type": "stream",
     "text": [
      "<class 'pandas.core.frame.DataFrame'>\n",
      "Int64Index: 2073 entries, 0 to 2072\n",
      "Data columns (total 17 columns):\n",
      "tweet_id                      2073 non-null int64\n",
      "in_reply_to_status_id         23 non-null float64\n",
      "in_reply_to_user_id           23 non-null float64\n",
      "timestamp                     2073 non-null object\n",
      "source                        2073 non-null object\n",
      "text                          2073 non-null object\n",
      "retweeted_status_id           79 non-null float64\n",
      "retweeted_status_user_id      79 non-null float64\n",
      "retweeted_status_timestamp    79 non-null object\n",
      "expanded_urls                 2073 non-null object\n",
      "rating_numerator              2073 non-null int64\n",
      "rating_denominator            2073 non-null int64\n",
      "name                          2073 non-null object\n",
      "dogtype                       356 non-null object\n",
      "ratings                       2073 non-null float64\n",
      "retweet_count                 2073 non-null int64\n",
      "favorite_count                2073 non-null int64\n",
      "dtypes: float64(5), int64(5), object(7)\n",
      "memory usage: 291.5+ KB\n"
     ]
    }
   ],
   "source": [
    "archive_clean.info()"
   ]
  },
  {
   "cell_type": "markdown",
   "metadata": {},
   "source": [
    "***\n",
    "#### Issue \n",
    "\n",
    "- The last 9 columns in prediction table represent the same type of information(prediction, confidence, isDog)\n",
    "\n",
    "#### Define\n",
    "- rename the columns so that you can use pandas' wide_to_long method to melt all 9 columns at once \n",
    "\n",
    "#### Code"
   ]
  },
  {
   "cell_type": "code",
   "execution_count": 39,
   "metadata": {},
   "outputs": [],
   "source": [
    "# change column names\n",
    "cols = [\"tweet_id\", \"jpg_url\", \"img_num\",\n",
    "        \"pred_1\", \"conf_1\", \"isDog_1\",\n",
    "        \"pred_2\", \"conf_2\", \"isDog_2\",\n",
    "        \"pred_3\", \"conf_3\", \"isDog_3\"]\n",
    "\n",
    "prediction_clean.columns = cols"
   ]
  },
  {
   "cell_type": "code",
   "execution_count": 40,
   "metadata": {},
   "outputs": [],
   "source": [
    "prediction_clean = pd.wide_to_long(prediction_clean, \n",
    "                                    stubnames=['pred', 'conf', 'isDog'],\n",
    "                      i=['tweet_id', 'jpg_url', 'img_num'], j='prediction_order', sep='_').reset_index()\n"
   ]
  },
  {
   "cell_type": "markdown",
   "metadata": {},
   "source": [
    "#### Test"
   ]
  },
  {
   "cell_type": "code",
   "execution_count": 41,
   "metadata": {},
   "outputs": [
    {
     "data": {
      "text/html": [
       "<div>\n",
       "<style scoped>\n",
       "    .dataframe tbody tr th:only-of-type {\n",
       "        vertical-align: middle;\n",
       "    }\n",
       "\n",
       "    .dataframe tbody tr th {\n",
       "        vertical-align: top;\n",
       "    }\n",
       "\n",
       "    .dataframe thead th {\n",
       "        text-align: right;\n",
       "    }\n",
       "</style>\n",
       "<table border=\"1\" class=\"dataframe\">\n",
       "  <thead>\n",
       "    <tr style=\"text-align: right;\">\n",
       "      <th></th>\n",
       "      <th>tweet_id</th>\n",
       "      <th>jpg_url</th>\n",
       "      <th>img_num</th>\n",
       "      <th>prediction_order</th>\n",
       "      <th>pred</th>\n",
       "      <th>conf</th>\n",
       "      <th>isDog</th>\n",
       "    </tr>\n",
       "  </thead>\n",
       "  <tbody>\n",
       "    <tr>\n",
       "      <th>0</th>\n",
       "      <td>666020888022790149</td>\n",
       "      <td>https://pbs.twimg.com/media/CT4udn0WwAA0aMy.jpg</td>\n",
       "      <td>1</td>\n",
       "      <td>1</td>\n",
       "      <td>Welsh_springer_spaniel</td>\n",
       "      <td>0.465074</td>\n",
       "      <td>True</td>\n",
       "    </tr>\n",
       "    <tr>\n",
       "      <th>1</th>\n",
       "      <td>666020888022790149</td>\n",
       "      <td>https://pbs.twimg.com/media/CT4udn0WwAA0aMy.jpg</td>\n",
       "      <td>1</td>\n",
       "      <td>2</td>\n",
       "      <td>collie</td>\n",
       "      <td>0.156665</td>\n",
       "      <td>True</td>\n",
       "    </tr>\n",
       "    <tr>\n",
       "      <th>2</th>\n",
       "      <td>666020888022790149</td>\n",
       "      <td>https://pbs.twimg.com/media/CT4udn0WwAA0aMy.jpg</td>\n",
       "      <td>1</td>\n",
       "      <td>3</td>\n",
       "      <td>Shetland_sheepdog</td>\n",
       "      <td>0.061428</td>\n",
       "      <td>True</td>\n",
       "    </tr>\n",
       "    <tr>\n",
       "      <th>3</th>\n",
       "      <td>666029285002620928</td>\n",
       "      <td>https://pbs.twimg.com/media/CT42GRgUYAA5iDo.jpg</td>\n",
       "      <td>1</td>\n",
       "      <td>1</td>\n",
       "      <td>redbone</td>\n",
       "      <td>0.506826</td>\n",
       "      <td>True</td>\n",
       "    </tr>\n",
       "    <tr>\n",
       "      <th>4</th>\n",
       "      <td>666029285002620928</td>\n",
       "      <td>https://pbs.twimg.com/media/CT42GRgUYAA5iDo.jpg</td>\n",
       "      <td>1</td>\n",
       "      <td>2</td>\n",
       "      <td>miniature_pinscher</td>\n",
       "      <td>0.074192</td>\n",
       "      <td>True</td>\n",
       "    </tr>\n",
       "  </tbody>\n",
       "</table>\n",
       "</div>"
      ],
      "text/plain": [
       "             tweet_id                                          jpg_url  \\\n",
       "0  666020888022790149  https://pbs.twimg.com/media/CT4udn0WwAA0aMy.jpg   \n",
       "1  666020888022790149  https://pbs.twimg.com/media/CT4udn0WwAA0aMy.jpg   \n",
       "2  666020888022790149  https://pbs.twimg.com/media/CT4udn0WwAA0aMy.jpg   \n",
       "3  666029285002620928  https://pbs.twimg.com/media/CT42GRgUYAA5iDo.jpg   \n",
       "4  666029285002620928  https://pbs.twimg.com/media/CT42GRgUYAA5iDo.jpg   \n",
       "\n",
       "   img_num  prediction_order                    pred      conf  isDog  \n",
       "0        1                 1  Welsh_springer_spaniel  0.465074   True  \n",
       "1        1                 2                  collie  0.156665   True  \n",
       "2        1                 3       Shetland_sheepdog  0.061428   True  \n",
       "3        1                 1                 redbone  0.506826   True  \n",
       "4        1                 2      miniature_pinscher  0.074192   True  "
      ]
     },
     "execution_count": 41,
     "metadata": {},
     "output_type": "execute_result"
    }
   ],
   "source": [
    "prediction_clean.head()"
   ]
  },
  {
   "cell_type": "code",
   "execution_count": 42,
   "metadata": {},
   "outputs": [
    {
     "data": {
      "text/plain": [
       "3.0"
      ]
     },
     "execution_count": 42,
     "metadata": {},
     "output_type": "execute_result"
    }
   ],
   "source": [
    "# Since we merged 3 groups of columns, we should have 3 times more rows\n",
    "prediction_clean.shape[0] / prediction_df.shape[0]"
   ]
  },
  {
   "cell_type": "markdown",
   "metadata": {},
   "source": [
    "Ressource:\n",
    "\n",
    "- [ melt multiple groups of columns ](https://stackoverflow.com/questions/38862832/pandas-melt-several-groups-of-columns-into-multiple-target-columns-by-name)\n",
    "- [pandas wide_to_long](https://pandas.pydata.org/pandas-docs/stable/reference/api/pandas.wide_to_long.html)\n"
   ]
  },
  {
   "cell_type": "markdown",
   "metadata": {},
   "source": [
    "<a id='clean_quality'> </a>\n",
    "### Data Quality\n",
    "\n",
    "#### Remaining Issues\n",
    "##### Archive table:\n",
    "- There are 181 retweets (which should not be included in the dataset).\n",
    "- There are columns which I do not plan to use in my analysis:\n",
    "    - in_reply_to_status_id, in_reply_to_user_id\n",
    "    - expanded_urls\n",
    "    - name\n",
    "    - retweeted_status_id, retweeted_status_user_id, retweeted_status_timestamp (once retweets are dealt with these columns will be unnecessary)\n",
    "- Erroneous datatype in columns: tweet_id, timestamp, (doggo, floofer, pupper, and puppo) which will be represented in 1 column(dogtype).\n",
    "\n",
    "- Source is given as a html anchor tag which is not necessary since there are only 4 different values, which can be labeled:\n",
    "    - Twitter iphone\n",
    "    - Vine\n",
    "    - Twitter web client\n",
    "    - TweetDeck\n",
    "- rating_denominator and rating_numerator have outliers.\n",
    "\n",
    "##### Prediction table:\n",
    "\n",
    "- Erroneous datatype for column: tweet_id.\n",
    "- According to the neural networks classifications, some images are very unlikely to be dog images.\n",
    "\n",
    "##### Api table:\n",
    "- Erroneous datatype for column: tweet_id."
   ]
  },
  {
   "cell_type": "markdown",
   "metadata": {},
   "source": [
    "***\n",
    "#### Issue\n",
    "There are 181 retweets (which should not be included in the dataset).\n",
    "\n",
    "#### Define\n",
    "- Only select rows with retweeted_status_id set to Nan\n",
    "- the retweeted_status_id, retweeted_status_user_id, retweeted_status_timestamp would become useless for this analysis so they will be droped\n",
    "\n",
    "#### Code"
   ]
  },
  {
   "cell_type": "code",
   "execution_count": 43,
   "metadata": {},
   "outputs": [],
   "source": [
    "archive_clean = archive_clean[archive_clean.retweeted_status_id.isnull()]\n"
   ]
  },
  {
   "cell_type": "markdown",
   "metadata": {},
   "source": [
    "#### Test"
   ]
  },
  {
   "cell_type": "code",
   "execution_count": 44,
   "metadata": {
    "scrolled": true
   },
   "outputs": [
    {
     "data": {
      "text/plain": [
       "0"
      ]
     },
     "execution_count": 44,
     "metadata": {},
     "output_type": "execute_result"
    }
   ],
   "source": [
    "# This should be zero\n",
    "archive_clean.retweeted_status_id.notnull().sum()"
   ]
  },
  {
   "cell_type": "markdown",
   "metadata": {},
   "source": [
    "***\n",
    "#### Issue\n",
    "\n",
    "- There are columns which I do not plan to use in my analysis:\n",
    "    - in_reply_to_status_id, in_reply_to_user_id\n",
    "    - expanded_urls\n",
    "    - name\n",
    "    - retweeted_status_id, retweeted_status_user_id, retweeted_status_timestamp (once retweets are dealt with these columns will be unnecessary)\n",
    "    - rating_numerator and rating_denominator (Since they will be replaced by the ratings column which sums them)\n",
    "    \n",
    "#### Define\n",
    "- use the drop method of pandas df.\n",
    "\n",
    "#### Code"
   ]
  },
  {
   "cell_type": "code",
   "execution_count": 45,
   "metadata": {},
   "outputs": [],
   "source": [
    "to_drop = [\"in_reply_to_status_id\", \"in_reply_to_user_id\", \"expanded_urls\", \"name\", \n",
    "           \"retweeted_status_id\", \"retweeted_status_user_id\", \"retweeted_status_timestamp\",\n",
    "          \"rating_numerator\", \"rating_denominator\"]\n",
    "archive_clean.drop(columns=to_drop, inplace=True)\n"
   ]
  },
  {
   "cell_type": "markdown",
   "metadata": {},
   "source": [
    "#### Test"
   ]
  },
  {
   "cell_type": "code",
   "execution_count": 46,
   "metadata": {},
   "outputs": [
    {
     "name": "stdout",
     "output_type": "stream",
     "text": [
      "<class 'pandas.core.frame.DataFrame'>\n",
      "Int64Index: 1994 entries, 0 to 2072\n",
      "Data columns (total 8 columns):\n",
      "tweet_id          1994 non-null int64\n",
      "timestamp         1994 non-null object\n",
      "source            1994 non-null object\n",
      "text              1994 non-null object\n",
      "dogtype           342 non-null object\n",
      "ratings           1994 non-null float64\n",
      "retweet_count     1994 non-null int64\n",
      "favorite_count    1994 non-null int64\n",
      "dtypes: float64(1), int64(3), object(4)\n",
      "memory usage: 140.2+ KB\n"
     ]
    }
   ],
   "source": [
    "archive_clean.info()"
   ]
  },
  {
   "cell_type": "markdown",
   "metadata": {},
   "source": [
    "***\n",
    "#### Issue\n",
    "\n",
    "- Erroneous datatype in columns:  timestamp, (doggo, floofer, pupper, and puppo) dogtype and tweet_id.\n",
    "\n",
    "#### Define\n",
    "- data types changes will be as follows\n",
    "    - tweet_id to str\n",
    "    - timestamp  to datetime\n",
    "    - dogtype to category\n",
    "    \n",
    "\n",
    "#### Code\n"
   ]
  },
  {
   "cell_type": "code",
   "execution_count": 47,
   "metadata": {},
   "outputs": [],
   "source": [
    "archive_clean = archive_clean.astype({\"tweet_id\": str,\n",
    "                                     \"dogtype\": 'category'})\n",
    "\n",
    "# timestamp => datetime \n",
    "archive_clean.timestamp = pd.to_datetime(archive_clean.timestamp)\n"
   ]
  },
  {
   "cell_type": "markdown",
   "metadata": {},
   "source": [
    "#### Test"
   ]
  },
  {
   "cell_type": "code",
   "execution_count": 48,
   "metadata": {},
   "outputs": [
    {
     "name": "stdout",
     "output_type": "stream",
     "text": [
      "<class 'pandas.core.frame.DataFrame'>\n",
      "Int64Index: 1994 entries, 0 to 2072\n",
      "Data columns (total 8 columns):\n",
      "tweet_id          1994 non-null object\n",
      "timestamp         1994 non-null datetime64[ns, UTC]\n",
      "source            1994 non-null object\n",
      "text              1994 non-null object\n",
      "dogtype           342 non-null category\n",
      "ratings           1994 non-null float64\n",
      "retweet_count     1994 non-null int64\n",
      "favorite_count    1994 non-null int64\n",
      "dtypes: category(1), datetime64[ns, UTC](1), float64(1), int64(2), object(3)\n",
      "memory usage: 126.9+ KB\n"
     ]
    }
   ],
   "source": [
    "archive_clean.info()"
   ]
  },
  {
   "cell_type": "markdown",
   "metadata": {},
   "source": [
    "Since api table and archive table have merged, there is no need to convert tweet_id's type in the api table"
   ]
  },
  {
   "cell_type": "markdown",
   "metadata": {},
   "source": [
    "***\n",
    "#### Issue\n",
    "\n",
    "- Erroneous datatype for column: tweet_id.\n",
    "\n",
    "#### Define\n",
    "- use astype methode to convert tweet_id from int to str\n",
    "\n",
    "#### Code"
   ]
  },
  {
   "cell_type": "code",
   "execution_count": 49,
   "metadata": {},
   "outputs": [],
   "source": [
    "prediction_clean = prediction_clean.astype({\"tweet_id\": str})"
   ]
  },
  {
   "cell_type": "markdown",
   "metadata": {},
   "source": [
    "#### Test"
   ]
  },
  {
   "cell_type": "code",
   "execution_count": 50,
   "metadata": {
    "scrolled": true
   },
   "outputs": [
    {
     "name": "stdout",
     "output_type": "stream",
     "text": [
      "<class 'pandas.core.frame.DataFrame'>\n",
      "RangeIndex: 6225 entries, 0 to 6224\n",
      "Data columns (total 7 columns):\n",
      "tweet_id            6225 non-null object\n",
      "jpg_url             6225 non-null object\n",
      "img_num             6225 non-null int64\n",
      "prediction_order    6225 non-null int64\n",
      "pred                6225 non-null object\n",
      "conf                6225 non-null float64\n",
      "isDog               6225 non-null bool\n",
      "dtypes: bool(1), float64(1), int64(2), object(3)\n",
      "memory usage: 298.0+ KB\n"
     ]
    }
   ],
   "source": [
    "prediction_clean.info()"
   ]
  },
  {
   "cell_type": "markdown",
   "metadata": {},
   "source": [
    "***\n",
    "#### Issue\n",
    "\n",
    "- According to the neural networks classifications, some images are very unlikely to be dog images.\n",
    "\n",
    "#### Define\n",
    "- we will consider an image not a dog image if isDog is False and the prediction confidence is (>0.5).\n",
    "- drop the rows that do match the above criteria.\n",
    "\n",
    "#### Code"
   ]
  },
  {
   "cell_type": "code",
   "execution_count": 51,
   "metadata": {
    "scrolled": true
   },
   "outputs": [],
   "source": [
    "inds_to_drop = list(prediction_clean.query(\"isDog == False and conf > 0.5\").index)\n",
    "prediction_clean.drop(inds_to_drop, inplace=True)"
   ]
  },
  {
   "cell_type": "markdown",
   "metadata": {},
   "source": [
    "#### Test"
   ]
  },
  {
   "cell_type": "code",
   "execution_count": 52,
   "metadata": {},
   "outputs": [
    {
     "data": {
      "text/plain": [
       "0"
      ]
     },
     "execution_count": 52,
     "metadata": {},
     "output_type": "execute_result"
    }
   ],
   "source": [
    "# This should be zero\n",
    "prediction_clean.query(\"isDog == False and conf > 0.5\").shape[0]"
   ]
  },
  {
   "cell_type": "markdown",
   "metadata": {},
   "source": [
    "Something to notice though, since we only need tweets with images, archive table needs to be updated after droping rows from prediction table"
   ]
  },
  {
   "cell_type": "code",
   "execution_count": 53,
   "metadata": {},
   "outputs": [],
   "source": [
    "tweet_with_img = archive_clean.tweet_id.isin( prediction_clean.tweet_id)\n",
    "archive_clean = archive_clean[tweet_with_img]"
   ]
  },
  {
   "cell_type": "code",
   "execution_count": 54,
   "metadata": {},
   "outputs": [
    {
     "data": {
      "text/plain": [
       "True"
      ]
     },
     "execution_count": 54,
     "metadata": {},
     "output_type": "execute_result"
    }
   ],
   "source": [
    "# This should be True\n",
    "archive_clean.tweet_id.isin( prediction_clean.tweet_id).sum() == archive_clean.shape[0]"
   ]
  },
  {
   "cell_type": "markdown",
   "metadata": {},
   "source": [
    "***\n",
    "#### Issue\n",
    "\n",
    "- Source is given as a html anchor tag which is not necessary since there are only 4 different values, which can be labeled:\n",
    "    - iphone\n",
    "    - Vine\n",
    "    - web client\n",
    "    - TweetDeck\n",
    "    \n",
    "#### Define\n",
    "- write a function that recognizes the category of the source\n",
    "- for each row in the source column use that function to create a new column of sources\n",
    "- drop the old source column\n",
    "\n",
    "#### Code"
   ]
  },
  {
   "cell_type": "code",
   "execution_count": 55,
   "metadata": {},
   "outputs": [
    {
     "data": {
      "text/plain": [
       "<a href=\"http://twitter.com/download/iphone\" rel=\"nofollow\">Twitter for iPhone</a>     1955\n",
       "<a href=\"http://twitter.com\" rel=\"nofollow\">Twitter Web Client</a>                       28\n",
       "<a href=\"https://about.twitter.com/products/tweetdeck\" rel=\"nofollow\">TweetDeck</a>      11\n",
       "Name: source, dtype: int64"
      ]
     },
     "execution_count": 55,
     "metadata": {},
     "output_type": "execute_result"
    }
   ],
   "source": [
    "archive_clean.source.value_counts()"
   ]
  },
  {
   "cell_type": "markdown",
   "metadata": {},
   "source": [
    "We notice that Vine doesn't appear anymore, it must've been droped in the cleaning process."
   ]
  },
  {
   "cell_type": "code",
   "execution_count": 56,
   "metadata": {},
   "outputs": [],
   "source": [
    "def get_source_cat(source):\n",
    "    \n",
    "    \"\"\"This function returns a column containing shortened sources \"\"\"\n",
    "    \n",
    "    key_words = [\"iPhone\", \"Web Client\", \"TweetDeck\"]\n",
    "    \n",
    "    for word in key_words:\n",
    "        if word in source:\n",
    "            return word\n",
    "    return np.nan"
   ]
  },
  {
   "cell_type": "code",
   "execution_count": 57,
   "metadata": {},
   "outputs": [],
   "source": [
    "archive_clean.source = archive_clean.source.apply(get_source_cat)"
   ]
  },
  {
   "cell_type": "markdown",
   "metadata": {},
   "source": [
    "#### Test"
   ]
  },
  {
   "cell_type": "code",
   "execution_count": 58,
   "metadata": {},
   "outputs": [
    {
     "data": {
      "text/plain": [
       "iPhone        1955\n",
       "Web Client      28\n",
       "TweetDeck       11\n",
       "Name: source, dtype: int64"
      ]
     },
     "execution_count": 58,
     "metadata": {},
     "output_type": "execute_result"
    }
   ],
   "source": [
    "archive_clean.source.value_counts()"
   ]
  },
  {
   "cell_type": "markdown",
   "metadata": {},
   "source": [
    "***\n",
    "#### Issue\n",
    "\n",
    "- ratings column in archive table has outliers.\n",
    "\n",
    "#### Define\n",
    "- ratings will be considered outliers if rating >= 7.5 \n",
    "- drop rows that match the above criteria\n",
    "\n",
    "#### Code\n"
   ]
  },
  {
   "cell_type": "code",
   "execution_count": 59,
   "metadata": {},
   "outputs": [
    {
     "data": {
      "text/plain": [
       "count    1994.000000\n",
       "mean        1.169249\n",
       "std         4.067071\n",
       "min         0.000000\n",
       "25%         1.000000\n",
       "50%         1.100000\n",
       "75%         1.200000\n",
       "max       177.600000\n",
       "Name: ratings, dtype: float64"
      ]
     },
     "execution_count": 59,
     "metadata": {},
     "output_type": "execute_result"
    }
   ],
   "source": [
    "archive_clean.ratings.describe()"
   ]
  },
  {
   "cell_type": "code",
   "execution_count": 60,
   "metadata": {},
   "outputs": [],
   "source": [
    "archive_clean = archive_clean[archive_clean.ratings < 7.5]  "
   ]
  },
  {
   "cell_type": "markdown",
   "metadata": {},
   "source": [
    "#### Test"
   ]
  },
  {
   "cell_type": "code",
   "execution_count": 61,
   "metadata": {},
   "outputs": [
    {
     "data": {
      "text/plain": [
       "count    1991.000000\n",
       "mean        1.056948\n",
       "std         0.231009\n",
       "min         0.000000\n",
       "25%         1.000000\n",
       "50%         1.100000\n",
       "75%         1.200000\n",
       "max         3.428571\n",
       "Name: ratings, dtype: float64"
      ]
     },
     "execution_count": 61,
     "metadata": {},
     "output_type": "execute_result"
    }
   ],
   "source": [
    "archive_clean.ratings.describe()"
   ]
  },
  {
   "cell_type": "markdown",
   "metadata": {},
   "source": [
    "****\n",
    "<a id='clean_conclusion'> </a>\n",
    "\n",
    "### Conclusion"
   ]
  },
  {
   "cell_type": "code",
   "execution_count": 62,
   "metadata": {},
   "outputs": [
    {
     "name": "stdout",
     "output_type": "stream",
     "text": [
      "<class 'pandas.core.frame.DataFrame'>\n",
      "Int64Index: 1991 entries, 0 to 2072\n",
      "Data columns (total 8 columns):\n",
      "tweet_id          1991 non-null object\n",
      "timestamp         1991 non-null datetime64[ns, UTC]\n",
      "source            1991 non-null object\n",
      "text              1991 non-null object\n",
      "dogtype           342 non-null category\n",
      "ratings           1991 non-null float64\n",
      "retweet_count     1991 non-null int64\n",
      "favorite_count    1991 non-null int64\n",
      "dtypes: category(1), datetime64[ns, UTC](1), float64(1), int64(2), object(3)\n",
      "memory usage: 126.7+ KB\n"
     ]
    }
   ],
   "source": [
    "archive_clean.info()"
   ]
  },
  {
   "cell_type": "code",
   "execution_count": 63,
   "metadata": {},
   "outputs": [
    {
     "name": "stdout",
     "output_type": "stream",
     "text": [
      "<class 'pandas.core.frame.DataFrame'>\n",
      "Int64Index: 5959 entries, 0 to 6224\n",
      "Data columns (total 7 columns):\n",
      "tweet_id            5959 non-null object\n",
      "jpg_url             5959 non-null object\n",
      "img_num             5959 non-null int64\n",
      "prediction_order    5959 non-null int64\n",
      "pred                5959 non-null object\n",
      "conf                5959 non-null float64\n",
      "isDog               5959 non-null bool\n",
      "dtypes: bool(1), float64(1), int64(2), object(3)\n",
      "memory usage: 331.7+ KB\n"
     ]
    }
   ],
   "source": [
    "prediction_clean.info()"
   ]
  },
  {
   "cell_type": "markdown",
   "metadata": {},
   "source": [
    "<a id='save_data'> </a>\n",
    "### Saving the wrangled data"
   ]
  },
  {
   "cell_type": "code",
   "execution_count": 64,
   "metadata": {},
   "outputs": [],
   "source": [
    "archive_clean.to_csv('twitter_archive_master.csv', index=False)\n",
    "prediction_clean.to_csv('predictions_master.csv', index=False)"
   ]
  },
  {
   "cell_type": "markdown",
   "metadata": {},
   "source": [
    "<a id='analysis_visualization'> </a>\n",
    "## Analysis and Visualization"
   ]
  },
  {
   "cell_type": "code",
   "execution_count": 65,
   "metadata": {},
   "outputs": [],
   "source": [
    "archive = pd.read_csv('twitter_archive_master.csv')\n",
    "predictions = pd.read_csv('predictions_master.csv')"
   ]
  },
  {
   "cell_type": "code",
   "execution_count": 66,
   "metadata": {},
   "outputs": [
    {
     "name": "stdout",
     "output_type": "stream",
     "text": [
      "<class 'pandas.core.frame.DataFrame'>\n",
      "RangeIndex: 1991 entries, 0 to 1990\n",
      "Data columns (total 8 columns):\n",
      "tweet_id          1991 non-null int64\n",
      "timestamp         1991 non-null object\n",
      "source            1991 non-null object\n",
      "text              1991 non-null object\n",
      "dogtype           342 non-null object\n",
      "ratings           1991 non-null float64\n",
      "retweet_count     1991 non-null int64\n",
      "favorite_count    1991 non-null int64\n",
      "dtypes: float64(1), int64(3), object(4)\n",
      "memory usage: 124.5+ KB\n"
     ]
    }
   ],
   "source": [
    "archive.info()"
   ]
  },
  {
   "cell_type": "markdown",
   "metadata": {},
   "source": [
    "Notice that: tweet_id, timestamp, source and dogtype became of type string after saving them to a file"
   ]
  },
  {
   "cell_type": "code",
   "execution_count": 67,
   "metadata": {},
   "outputs": [
    {
     "name": "stdout",
     "output_type": "stream",
     "text": [
      "<class 'pandas.core.frame.DataFrame'>\n",
      "RangeIndex: 5959 entries, 0 to 5958\n",
      "Data columns (total 7 columns):\n",
      "tweet_id            5959 non-null int64\n",
      "jpg_url             5959 non-null object\n",
      "img_num             5959 non-null int64\n",
      "prediction_order    5959 non-null int64\n",
      "pred                5959 non-null object\n",
      "conf                5959 non-null float64\n",
      "isDog               5959 non-null bool\n",
      "dtypes: bool(1), float64(1), int64(3), object(2)\n",
      "memory usage: 285.2+ KB\n"
     ]
    }
   ],
   "source": [
    "predictions.info()"
   ]
  },
  {
   "cell_type": "markdown",
   "metadata": {},
   "source": [
    "For the predictions table, only tweet_id turned into str.\n",
    "\n",
    "Before going any further, let's reconvert these columns to their correct datatypes"
   ]
  },
  {
   "cell_type": "code",
   "execution_count": 68,
   "metadata": {},
   "outputs": [],
   "source": [
    "archive = archive.astype({\"tweet_id\": str,\n",
    "               \"source\": 'category',\n",
    "               \"dogtype\": 'category'})\n",
    "\n",
    "archive.timestamp = pd.to_datetime(archive.timestamp)\n"
   ]
  },
  {
   "cell_type": "code",
   "execution_count": 69,
   "metadata": {},
   "outputs": [],
   "source": [
    "predictions = predictions.astype({\"tweet_id\": str})\n"
   ]
  },
  {
   "cell_type": "code",
   "execution_count": 70,
   "metadata": {},
   "outputs": [
    {
     "name": "stdout",
     "output_type": "stream",
     "text": [
      "<class 'pandas.core.frame.DataFrame'>\n",
      "RangeIndex: 1991 entries, 0 to 1990\n",
      "Data columns (total 8 columns):\n",
      "tweet_id          1991 non-null object\n",
      "timestamp         1991 non-null datetime64[ns, UTC]\n",
      "source            1991 non-null category\n",
      "text              1991 non-null object\n",
      "dogtype           342 non-null category\n",
      "ratings           1991 non-null float64\n",
      "retweet_count     1991 non-null int64\n",
      "favorite_count    1991 non-null int64\n",
      "dtypes: category(2), datetime64[ns, UTC](1), float64(1), int64(2), object(2)\n",
      "memory usage: 97.8+ KB\n"
     ]
    }
   ],
   "source": [
    "archive.info()"
   ]
  },
  {
   "cell_type": "code",
   "execution_count": 71,
   "metadata": {
    "scrolled": true
   },
   "outputs": [
    {
     "name": "stdout",
     "output_type": "stream",
     "text": [
      "<class 'pandas.core.frame.DataFrame'>\n",
      "RangeIndex: 5959 entries, 0 to 5958\n",
      "Data columns (total 7 columns):\n",
      "tweet_id            5959 non-null object\n",
      "jpg_url             5959 non-null object\n",
      "img_num             5959 non-null int64\n",
      "prediction_order    5959 non-null int64\n",
      "pred                5959 non-null object\n",
      "conf                5959 non-null float64\n",
      "isDog               5959 non-null bool\n",
      "dtypes: bool(1), float64(1), int64(2), object(3)\n",
      "memory usage: 285.2+ KB\n"
     ]
    }
   ],
   "source": [
    "predictions.info()"
   ]
  },
  {
   "cell_type": "markdown",
   "metadata": {},
   "source": [
    "***\n",
    "Now that the datatypes have been recovered, I can proceed with the analysis"
   ]
  },
  {
   "cell_type": "markdown",
   "metadata": {
    "scrolled": false
   },
   "source": [
    "<a id='infl_rating'> </a>\n",
    "\n",
    "### 1. Influence of rating over retweet and favorite counts"
   ]
  },
  {
   "cell_type": "code",
   "execution_count": 72,
   "metadata": {},
   "outputs": [
    {
     "data": {
      "text/plain": [
       "Text(0, 0.5, 'Favorite count')"
      ]
     },
     "execution_count": 72,
     "metadata": {},
     "output_type": "execute_result"
    },
    {
     "data": {
      "image/png": "[encoded data removed]",
      "text/plain": [
       "<Figure size 864x504 with 2 Axes>"
      ]
     },
     "metadata": {
      "needs_background": "light"
     },
     "output_type": "display_data"
    }
   ],
   "source": [
    "plt.subplots(figsize=(12, 7))\n",
    "\n",
    "plt.subplot(121)\n",
    "plt.scatter(archive.ratings, archive.retweet_count);\n",
    "plt.title(\"Retweet count by rating\")\n",
    "plt.xlabel(\"Ratings\")\n",
    "plt.ylabel(\"Retweet count\")\n",
    "\n",
    "plt.subplot(122)\n",
    "plt.scatter(archive.ratings, archive.favorite_count);\n",
    "plt.title(\"Favorite count by rating\")\n",
    "plt.xlabel(\"Ratings\")\n",
    "plt.ylabel(\"Favorite count\")"
   ]
  },
  {
   "cell_type": "markdown",
   "metadata": {},
   "source": [
    "We can notice a positive correlation between each of these 2 variables with rating, whenever rating increases the favorite count and retweet count increase too.\n",
    "***\n",
    "***\n",
    "<a id='fav_dog_type'> </a>\n",
    "\n",
    "### 2. Favorite dog type\n",
    "\n",
    "#### 1. By count"
   ]
  },
  {
   "cell_type": "code",
   "execution_count": 73,
   "metadata": {},
   "outputs": [
    {
     "data": {
      "text/plain": [
       "dogtype\n",
       "doggo              68\n",
       "doggo, floofer      1\n",
       "doggo, pupper       9\n",
       "doggo, puppo        2\n",
       "floofer             7\n",
       "pupper            228\n",
       "puppo              27\n",
       "Name: tweet_id, dtype: int64"
      ]
     },
     "execution_count": 73,
     "metadata": {},
     "output_type": "execute_result"
    }
   ],
   "source": [
    "dogtypes_counts = archive.groupby('dogtype').tweet_id.count()\n",
    "dogtypes_counts"
   ]
  },
  {
   "cell_type": "code",
   "execution_count": 74,
   "metadata": {},
   "outputs": [
    {
     "data": {
      "image/png": "[encoded data removed]",
      "text/plain": [
       "<Figure size 864x432 with 1 Axes>"
      ]
     },
     "metadata": {
      "needs_background": "light"
     },
     "output_type": "display_data"
    }
   ],
   "source": [
    "dogtype_labels = ['doggo','doggo, floofer', 'doggo, pupper', 'doggo, puppo', 'floofer', 'pupper', 'puppo']\n",
    "\n",
    "plt.subplots(figsize=(12, 6))\n",
    "plt.bar([1, 2, 3, 4, 5, 6, 7], dogtypes_counts, tick_label=dogtype_labels)\n",
    "plt.title('Favorite Dogs?\\n', fontsize=18, weight='bold')\n",
    "plt.xlabel('\\nDog Type', weight='bold')\n",
    "plt.ylabel('Count\\n', weight='bold');"
   ]
  },
  {
   "cell_type": "markdown",
   "metadata": {},
   "source": [
    "#### 2. By rating"
   ]
  },
  {
   "cell_type": "code",
   "execution_count": 75,
   "metadata": {},
   "outputs": [
    {
     "data": {
      "text/plain": [
       "dogtype\n",
       "doggo             1.180882\n",
       "doggo, floofer    1.100000\n",
       "doggo, pupper     1.100000\n",
       "doggo, puppo      1.300000\n",
       "floofer           1.200000\n",
       "pupper            1.074123\n",
       "puppo             1.211111\n",
       "Name: ratings, dtype: float64"
      ]
     },
     "execution_count": 75,
     "metadata": {},
     "output_type": "execute_result"
    }
   ],
   "source": [
    "dogtype_ratings = archive.groupby('dogtype').ratings.mean()\n",
    "dogtype_ratings"
   ]
  },
  {
   "cell_type": "code",
   "execution_count": 76,
   "metadata": {
    "scrolled": false
   },
   "outputs": [
    {
     "data": {
      "image/png": "[encoded data removed]",
      "text/plain": [
       "<Figure size 864x432 with 1 Axes>"
      ]
     },
     "metadata": {
      "needs_background": "light"
     },
     "output_type": "display_data"
    }
   ],
   "source": [
    "plt.subplots(figsize=(12, 6))\n",
    "plt.bar([1, 2, 3, 4, 5, 6, 7], dogtype_ratings, tick_label=dogtype_labels)\n",
    "plt.title('Dogtype ratings\\n', fontsize=18, weight='bold')\n",
    "plt.xlabel('\\nDog Type', weight='bold')\n",
    "plt.ylabel('rating\\n', weight='bold');"
   ]
  },
  {
   "cell_type": "markdown",
   "metadata": {},
   "source": [
    "#### 3. By retweet count"
   ]
  },
  {
   "cell_type": "code",
   "execution_count": 77,
   "metadata": {},
   "outputs": [
    {
     "data": {
      "text/plain": [
       "dogtype\n",
       "doggo              6785.661765\n",
       "doggo, floofer     3433.000000\n",
       "doggo, pupper      4083.444444\n",
       "doggo, puppo      11483.500000\n",
       "floofer            4968.714286\n",
       "pupper             2296.026316\n",
       "puppo              6337.481481\n",
       "Name: retweet_count, dtype: float64"
      ]
     },
     "execution_count": 77,
     "metadata": {},
     "output_type": "execute_result"
    }
   ],
   "source": [
    "dogtype_retweet_count = archive.groupby('dogtype').retweet_count.mean()\n",
    "dogtype_retweet_count"
   ]
  },
  {
   "cell_type": "code",
   "execution_count": 78,
   "metadata": {},
   "outputs": [
    {
     "data": {
      "image/png": "[encoded data removed]",
      "text/plain": [
       "<Figure size 864x432 with 1 Axes>"
      ]
     },
     "metadata": {
      "needs_background": "light"
     },
     "output_type": "display_data"
    }
   ],
   "source": [
    "plt.subplots(figsize=(12, 6))\n",
    "plt.bar([1, 2, 3, 4, 5, 6, 7], dogtype_retweet_count, tick_label=dogtype_labels)\n",
    "plt.title('Dogtype retweet count\\n', fontsize=18, weight='bold')\n",
    "plt.xlabel('\\nDog Type', weight='bold')\n",
    "plt.ylabel('retweet count\\n', weight='bold');"
   ]
  },
  {
   "cell_type": "markdown",
   "metadata": {},
   "source": [
    "#### 4. By favorite count"
   ]
  },
  {
   "cell_type": "code",
   "execution_count": 79,
   "metadata": {},
   "outputs": [
    {
     "data": {
      "text/plain": [
       "dogtype\n",
       "doggo             18358.161765\n",
       "doggo, floofer    17169.000000\n",
       "doggo, pupper     12533.111111\n",
       "doggo, puppo      32074.000000\n",
       "floofer           13206.000000\n",
       "pupper             7030.192982\n",
       "puppo             21957.962963\n",
       "Name: favorite_count, dtype: float64"
      ]
     },
     "execution_count": 79,
     "metadata": {},
     "output_type": "execute_result"
    }
   ],
   "source": [
    "dogtype_favorite_count = archive.groupby('dogtype').favorite_count.mean()\n",
    "dogtype_favorite_count"
   ]
  },
  {
   "cell_type": "code",
   "execution_count": 80,
   "metadata": {},
   "outputs": [
    {
     "data": {
      "image/png": "[encoded data removed]",
      "text/plain": [
       "<Figure size 864x432 with 1 Axes>"
      ]
     },
     "metadata": {
      "needs_background": "light"
     },
     "output_type": "display_data"
    }
   ],
   "source": [
    "plt.subplots(figsize=(12, 6))\n",
    "plt.bar([1, 2, 3, 4, 5, 6, 7], dogtype_favorite_count, tick_label=dogtype_labels)\n",
    "plt.title('Dogtype favorite count\\n', fontsize=18, weight='bold')\n",
    "plt.xlabel('\\nDog Type', weight='bold')\n",
    "plt.ylabel('favorite count\\n', weight='bold');"
   ]
  },
  {
   "cell_type": "markdown",
   "metadata": {},
   "source": [
    "***\n",
    "***\n",
    "<a id='fav_dog_breed'> </a>\n",
    "### 3. Favorite Dog breeds"
   ]
  },
  {
   "cell_type": "code",
   "execution_count": 81,
   "metadata": {},
   "outputs": [
    {
     "data": {
      "text/html": [
       "<div>\n",
       "<style scoped>\n",
       "    .dataframe tbody tr th:only-of-type {\n",
       "        vertical-align: middle;\n",
       "    }\n",
       "\n",
       "    .dataframe tbody tr th {\n",
       "        vertical-align: top;\n",
       "    }\n",
       "\n",
       "    .dataframe thead th {\n",
       "        text-align: right;\n",
       "    }\n",
       "</style>\n",
       "<table border=\"1\" class=\"dataframe\">\n",
       "  <thead>\n",
       "    <tr style=\"text-align: right;\">\n",
       "      <th></th>\n",
       "      <th>tweet_id</th>\n",
       "      <th>jpg_url</th>\n",
       "      <th>img_num</th>\n",
       "      <th>prediction_order</th>\n",
       "      <th>pred</th>\n",
       "      <th>conf</th>\n",
       "      <th>isDog</th>\n",
       "    </tr>\n",
       "  </thead>\n",
       "  <tbody>\n",
       "    <tr>\n",
       "      <th>0</th>\n",
       "      <td>666020888022790149</td>\n",
       "      <td>https://pbs.twimg.com/media/CT4udn0WwAA0aMy.jpg</td>\n",
       "      <td>1</td>\n",
       "      <td>1</td>\n",
       "      <td>Welsh_springer_spaniel</td>\n",
       "      <td>0.465074</td>\n",
       "      <td>True</td>\n",
       "    </tr>\n",
       "    <tr>\n",
       "      <th>1</th>\n",
       "      <td>666020888022790149</td>\n",
       "      <td>https://pbs.twimg.com/media/CT4udn0WwAA0aMy.jpg</td>\n",
       "      <td>1</td>\n",
       "      <td>2</td>\n",
       "      <td>collie</td>\n",
       "      <td>0.156665</td>\n",
       "      <td>True</td>\n",
       "    </tr>\n",
       "    <tr>\n",
       "      <th>2</th>\n",
       "      <td>666020888022790149</td>\n",
       "      <td>https://pbs.twimg.com/media/CT4udn0WwAA0aMy.jpg</td>\n",
       "      <td>1</td>\n",
       "      <td>3</td>\n",
       "      <td>Shetland_sheepdog</td>\n",
       "      <td>0.061428</td>\n",
       "      <td>True</td>\n",
       "    </tr>\n",
       "    <tr>\n",
       "      <th>3</th>\n",
       "      <td>666029285002620928</td>\n",
       "      <td>https://pbs.twimg.com/media/CT42GRgUYAA5iDo.jpg</td>\n",
       "      <td>1</td>\n",
       "      <td>1</td>\n",
       "      <td>redbone</td>\n",
       "      <td>0.506826</td>\n",
       "      <td>True</td>\n",
       "    </tr>\n",
       "    <tr>\n",
       "      <th>4</th>\n",
       "      <td>666029285002620928</td>\n",
       "      <td>https://pbs.twimg.com/media/CT42GRgUYAA5iDo.jpg</td>\n",
       "      <td>1</td>\n",
       "      <td>2</td>\n",
       "      <td>miniature_pinscher</td>\n",
       "      <td>0.074192</td>\n",
       "      <td>True</td>\n",
       "    </tr>\n",
       "  </tbody>\n",
       "</table>\n",
       "</div>"
      ],
      "text/plain": [
       "             tweet_id                                          jpg_url  \\\n",
       "0  666020888022790149  https://pbs.twimg.com/media/CT4udn0WwAA0aMy.jpg   \n",
       "1  666020888022790149  https://pbs.twimg.com/media/CT4udn0WwAA0aMy.jpg   \n",
       "2  666020888022790149  https://pbs.twimg.com/media/CT4udn0WwAA0aMy.jpg   \n",
       "3  666029285002620928  https://pbs.twimg.com/media/CT42GRgUYAA5iDo.jpg   \n",
       "4  666029285002620928  https://pbs.twimg.com/media/CT42GRgUYAA5iDo.jpg   \n",
       "\n",
       "   img_num  prediction_order                    pred      conf  isDog  \n",
       "0        1                 1  Welsh_springer_spaniel  0.465074   True  \n",
       "1        1                 2                  collie  0.156665   True  \n",
       "2        1                 3       Shetland_sheepdog  0.061428   True  \n",
       "3        1                 1                 redbone  0.506826   True  \n",
       "4        1                 2      miniature_pinscher  0.074192   True  "
      ]
     },
     "execution_count": 81,
     "metadata": {},
     "output_type": "execute_result"
    }
   ],
   "source": [
    "predictions.head()"
   ]
  },
  {
   "cell_type": "markdown",
   "metadata": {},
   "source": [
    "#### 1. By count"
   ]
  },
  {
   "cell_type": "code",
   "execution_count": 82,
   "metadata": {
    "scrolled": true
   },
   "outputs": [
    {
     "data": {
      "text/html": [
       "<div>\n",
       "<style scoped>\n",
       "    .dataframe tbody tr th:only-of-type {\n",
       "        vertical-align: middle;\n",
       "    }\n",
       "\n",
       "    .dataframe tbody tr th {\n",
       "        vertical-align: top;\n",
       "    }\n",
       "\n",
       "    .dataframe thead th {\n",
       "        text-align: right;\n",
       "    }\n",
       "</style>\n",
       "<table border=\"1\" class=\"dataframe\">\n",
       "  <thead>\n",
       "    <tr style=\"text-align: right;\">\n",
       "      <th></th>\n",
       "      <th>tweet_id</th>\n",
       "      <th>pred</th>\n",
       "    </tr>\n",
       "  </thead>\n",
       "  <tbody>\n",
       "    <tr>\n",
       "      <th>0</th>\n",
       "      <td>666020888022790149</td>\n",
       "      <td>Welsh_springer_spaniel</td>\n",
       "    </tr>\n",
       "    <tr>\n",
       "      <th>3</th>\n",
       "      <td>666029285002620928</td>\n",
       "      <td>redbone</td>\n",
       "    </tr>\n",
       "    <tr>\n",
       "      <th>6</th>\n",
       "      <td>666033412701032449</td>\n",
       "      <td>German_shepherd</td>\n",
       "    </tr>\n",
       "    <tr>\n",
       "      <th>9</th>\n",
       "      <td>666044226329800704</td>\n",
       "      <td>Rhodesian_ridgeback</td>\n",
       "    </tr>\n",
       "    <tr>\n",
       "      <th>12</th>\n",
       "      <td>666049248165822465</td>\n",
       "      <td>miniature_pinscher</td>\n",
       "    </tr>\n",
       "    <tr>\n",
       "      <th>15</th>\n",
       "      <td>666050758794694657</td>\n",
       "      <td>Bernese_mountain_dog</td>\n",
       "    </tr>\n",
       "    <tr>\n",
       "      <th>20</th>\n",
       "      <td>666055525042405380</td>\n",
       "      <td>chow</td>\n",
       "    </tr>\n",
       "    <tr>\n",
       "      <th>25</th>\n",
       "      <td>666058600524156928</td>\n",
       "      <td>miniature_poodle</td>\n",
       "    </tr>\n",
       "    <tr>\n",
       "      <th>28</th>\n",
       "      <td>666063827256086533</td>\n",
       "      <td>golden_retriever</td>\n",
       "    </tr>\n",
       "    <tr>\n",
       "      <th>31</th>\n",
       "      <td>666071193221509120</td>\n",
       "      <td>Gordon_setter</td>\n",
       "    </tr>\n",
       "    <tr>\n",
       "      <th>34</th>\n",
       "      <td>666073100786774016</td>\n",
       "      <td>Walker_hound</td>\n",
       "    </tr>\n",
       "    <tr>\n",
       "      <th>37</th>\n",
       "      <td>666082916733198337</td>\n",
       "      <td>pug</td>\n",
       "    </tr>\n",
       "    <tr>\n",
       "      <th>40</th>\n",
       "      <td>666094000022159362</td>\n",
       "      <td>bloodhound</td>\n",
       "    </tr>\n",
       "    <tr>\n",
       "      <th>43</th>\n",
       "      <td>666099513787052032</td>\n",
       "      <td>Lhasa</td>\n",
       "    </tr>\n",
       "    <tr>\n",
       "      <th>46</th>\n",
       "      <td>666102155909144576</td>\n",
       "      <td>English_setter</td>\n",
       "    </tr>\n",
       "    <tr>\n",
       "      <th>51</th>\n",
       "      <td>666268910803644416</td>\n",
       "      <td>desktop_computer</td>\n",
       "    </tr>\n",
       "    <tr>\n",
       "      <th>54</th>\n",
       "      <td>666273097616637952</td>\n",
       "      <td>Italian_greyhound</td>\n",
       "    </tr>\n",
       "    <tr>\n",
       "      <th>57</th>\n",
       "      <td>666287406224695296</td>\n",
       "      <td>Maltese_dog</td>\n",
       "    </tr>\n",
       "    <tr>\n",
       "      <th>62</th>\n",
       "      <td>666337882303524864</td>\n",
       "      <td>ox</td>\n",
       "    </tr>\n",
       "    <tr>\n",
       "      <th>65</th>\n",
       "      <td>666345417576210432</td>\n",
       "      <td>golden_retriever</td>\n",
       "    </tr>\n",
       "    <tr>\n",
       "      <th>68</th>\n",
       "      <td>666353288456101888</td>\n",
       "      <td>malamute</td>\n",
       "    </tr>\n",
       "    <tr>\n",
       "      <th>73</th>\n",
       "      <td>666373753744588802</td>\n",
       "      <td>soft-coated_wheaten_terrier</td>\n",
       "    </tr>\n",
       "    <tr>\n",
       "      <th>76</th>\n",
       "      <td>666396247373291520</td>\n",
       "      <td>Chihuahua</td>\n",
       "    </tr>\n",
       "    <tr>\n",
       "      <th>79</th>\n",
       "      <td>666407126856765440</td>\n",
       "      <td>black-and-tan_coonhound</td>\n",
       "    </tr>\n",
       "    <tr>\n",
       "      <th>82</th>\n",
       "      <td>666411507551481857</td>\n",
       "      <td>coho</td>\n",
       "    </tr>\n",
       "    <tr>\n",
       "      <th>85</th>\n",
       "      <td>666418789513326592</td>\n",
       "      <td>toy_terrier</td>\n",
       "    </tr>\n",
       "    <tr>\n",
       "      <th>88</th>\n",
       "      <td>666421158376562688</td>\n",
       "      <td>Blenheim_spaniel</td>\n",
       "    </tr>\n",
       "    <tr>\n",
       "      <th>91</th>\n",
       "      <td>666428276349472768</td>\n",
       "      <td>Pembroke</td>\n",
       "    </tr>\n",
       "    <tr>\n",
       "      <th>96</th>\n",
       "      <td>666435652385423360</td>\n",
       "      <td>Chesapeake_Bay_retriever</td>\n",
       "    </tr>\n",
       "    <tr>\n",
       "      <th>99</th>\n",
       "      <td>666437273139982337</td>\n",
       "      <td>Chihuahua</td>\n",
       "    </tr>\n",
       "    <tr>\n",
       "      <th>...</th>\n",
       "      <td>...</td>\n",
       "      <td>...</td>\n",
       "    </tr>\n",
       "    <tr>\n",
       "      <th>5867</th>\n",
       "      <td>886258384151887873</td>\n",
       "      <td>pug</td>\n",
       "    </tr>\n",
       "    <tr>\n",
       "      <th>5870</th>\n",
       "      <td>886366144734445568</td>\n",
       "      <td>French_bulldog</td>\n",
       "    </tr>\n",
       "    <tr>\n",
       "      <th>5875</th>\n",
       "      <td>886736880519319552</td>\n",
       "      <td>kuvasz</td>\n",
       "    </tr>\n",
       "    <tr>\n",
       "      <th>5878</th>\n",
       "      <td>886983233522544640</td>\n",
       "      <td>Chihuahua</td>\n",
       "    </tr>\n",
       "    <tr>\n",
       "      <th>5881</th>\n",
       "      <td>887101392804085760</td>\n",
       "      <td>Samoyed</td>\n",
       "    </tr>\n",
       "    <tr>\n",
       "      <th>5884</th>\n",
       "      <td>887343217045368832</td>\n",
       "      <td>Mexican_hairless</td>\n",
       "    </tr>\n",
       "    <tr>\n",
       "      <th>5887</th>\n",
       "      <td>887473957103951883</td>\n",
       "      <td>Pembroke</td>\n",
       "    </tr>\n",
       "    <tr>\n",
       "      <th>5890</th>\n",
       "      <td>887517139158093824</td>\n",
       "      <td>limousine</td>\n",
       "    </tr>\n",
       "    <tr>\n",
       "      <th>5893</th>\n",
       "      <td>887705289381826560</td>\n",
       "      <td>basset</td>\n",
       "    </tr>\n",
       "    <tr>\n",
       "      <th>5896</th>\n",
       "      <td>888078434458587136</td>\n",
       "      <td>French_bulldog</td>\n",
       "    </tr>\n",
       "    <tr>\n",
       "      <th>5899</th>\n",
       "      <td>888202515573088257</td>\n",
       "      <td>Pembroke</td>\n",
       "    </tr>\n",
       "    <tr>\n",
       "      <th>5902</th>\n",
       "      <td>888554962724278272</td>\n",
       "      <td>Siberian_husky</td>\n",
       "    </tr>\n",
       "    <tr>\n",
       "      <th>5905</th>\n",
       "      <td>888804989199671297</td>\n",
       "      <td>golden_retriever</td>\n",
       "    </tr>\n",
       "    <tr>\n",
       "      <th>5908</th>\n",
       "      <td>888917238123831296</td>\n",
       "      <td>golden_retriever</td>\n",
       "    </tr>\n",
       "    <tr>\n",
       "      <th>5911</th>\n",
       "      <td>889278841981685760</td>\n",
       "      <td>whippet</td>\n",
       "    </tr>\n",
       "    <tr>\n",
       "      <th>5914</th>\n",
       "      <td>889531135344209921</td>\n",
       "      <td>golden_retriever</td>\n",
       "    </tr>\n",
       "    <tr>\n",
       "      <th>5917</th>\n",
       "      <td>889638837579907072</td>\n",
       "      <td>French_bulldog</td>\n",
       "    </tr>\n",
       "    <tr>\n",
       "      <th>5920</th>\n",
       "      <td>889665388333682689</td>\n",
       "      <td>Pembroke</td>\n",
       "    </tr>\n",
       "    <tr>\n",
       "      <th>5923</th>\n",
       "      <td>889880896479866881</td>\n",
       "      <td>French_bulldog</td>\n",
       "    </tr>\n",
       "    <tr>\n",
       "      <th>5926</th>\n",
       "      <td>890006608113172480</td>\n",
       "      <td>Samoyed</td>\n",
       "    </tr>\n",
       "    <tr>\n",
       "      <th>5929</th>\n",
       "      <td>890240255349198849</td>\n",
       "      <td>Pembroke</td>\n",
       "    </tr>\n",
       "    <tr>\n",
       "      <th>5932</th>\n",
       "      <td>890609185150312448</td>\n",
       "      <td>Irish_terrier</td>\n",
       "    </tr>\n",
       "    <tr>\n",
       "      <th>5935</th>\n",
       "      <td>890729181411237888</td>\n",
       "      <td>Pomeranian</td>\n",
       "    </tr>\n",
       "    <tr>\n",
       "      <th>5938</th>\n",
       "      <td>890971913173991426</td>\n",
       "      <td>Appenzeller</td>\n",
       "    </tr>\n",
       "    <tr>\n",
       "      <th>5941</th>\n",
       "      <td>891087950875897856</td>\n",
       "      <td>Chesapeake_Bay_retriever</td>\n",
       "    </tr>\n",
       "    <tr>\n",
       "      <th>5944</th>\n",
       "      <td>891327558926688256</td>\n",
       "      <td>basset</td>\n",
       "    </tr>\n",
       "    <tr>\n",
       "      <th>5947</th>\n",
       "      <td>891689557279858688</td>\n",
       "      <td>paper_towel</td>\n",
       "    </tr>\n",
       "    <tr>\n",
       "      <th>5950</th>\n",
       "      <td>891815181378084864</td>\n",
       "      <td>Chihuahua</td>\n",
       "    </tr>\n",
       "    <tr>\n",
       "      <th>5953</th>\n",
       "      <td>892177421306343426</td>\n",
       "      <td>Chihuahua</td>\n",
       "    </tr>\n",
       "    <tr>\n",
       "      <th>5956</th>\n",
       "      <td>892420643555336193</td>\n",
       "      <td>orange</td>\n",
       "    </tr>\n",
       "  </tbody>\n",
       "</table>\n",
       "<p>1809 rows × 2 columns</p>\n",
       "</div>"
      ],
      "text/plain": [
       "                tweet_id                         pred\n",
       "0     666020888022790149       Welsh_springer_spaniel\n",
       "3     666029285002620928                      redbone\n",
       "6     666033412701032449              German_shepherd\n",
       "9     666044226329800704          Rhodesian_ridgeback\n",
       "12    666049248165822465           miniature_pinscher\n",
       "15    666050758794694657         Bernese_mountain_dog\n",
       "20    666055525042405380                         chow\n",
       "25    666058600524156928             miniature_poodle\n",
       "28    666063827256086533             golden_retriever\n",
       "31    666071193221509120                Gordon_setter\n",
       "34    666073100786774016                 Walker_hound\n",
       "37    666082916733198337                          pug\n",
       "40    666094000022159362                   bloodhound\n",
       "43    666099513787052032                        Lhasa\n",
       "46    666102155909144576               English_setter\n",
       "51    666268910803644416             desktop_computer\n",
       "54    666273097616637952            Italian_greyhound\n",
       "57    666287406224695296                  Maltese_dog\n",
       "62    666337882303524864                           ox\n",
       "65    666345417576210432             golden_retriever\n",
       "68    666353288456101888                     malamute\n",
       "73    666373753744588802  soft-coated_wheaten_terrier\n",
       "76    666396247373291520                    Chihuahua\n",
       "79    666407126856765440      black-and-tan_coonhound\n",
       "82    666411507551481857                         coho\n",
       "85    666418789513326592                  toy_terrier\n",
       "88    666421158376562688             Blenheim_spaniel\n",
       "91    666428276349472768                     Pembroke\n",
       "96    666435652385423360     Chesapeake_Bay_retriever\n",
       "99    666437273139982337                    Chihuahua\n",
       "...                  ...                          ...\n",
       "5867  886258384151887873                          pug\n",
       "5870  886366144734445568               French_bulldog\n",
       "5875  886736880519319552                       kuvasz\n",
       "5878  886983233522544640                    Chihuahua\n",
       "5881  887101392804085760                      Samoyed\n",
       "5884  887343217045368832             Mexican_hairless\n",
       "5887  887473957103951883                     Pembroke\n",
       "5890  887517139158093824                    limousine\n",
       "5893  887705289381826560                       basset\n",
       "5896  888078434458587136               French_bulldog\n",
       "5899  888202515573088257                     Pembroke\n",
       "5902  888554962724278272               Siberian_husky\n",
       "5905  888804989199671297             golden_retriever\n",
       "5908  888917238123831296             golden_retriever\n",
       "5911  889278841981685760                      whippet\n",
       "5914  889531135344209921             golden_retriever\n",
       "5917  889638837579907072               French_bulldog\n",
       "5920  889665388333682689                     Pembroke\n",
       "5923  889880896479866881               French_bulldog\n",
       "5926  890006608113172480                      Samoyed\n",
       "5929  890240255349198849                     Pembroke\n",
       "5932  890609185150312448                Irish_terrier\n",
       "5935  890729181411237888                   Pomeranian\n",
       "5938  890971913173991426                  Appenzeller\n",
       "5941  891087950875897856     Chesapeake_Bay_retriever\n",
       "5944  891327558926688256                       basset\n",
       "5947  891689557279858688                  paper_towel\n",
       "5950  891815181378084864                    Chihuahua\n",
       "5953  892177421306343426                    Chihuahua\n",
       "5956  892420643555336193                       orange\n",
       "\n",
       "[1809 rows x 2 columns]"
      ]
     },
     "execution_count": 82,
     "metadata": {},
     "output_type": "execute_result"
    }
   ],
   "source": [
    "breeds = predictions.query(\"prediction_order == 1\")[[\"tweet_id\", \"pred\"]]\n",
    "breeds"
   ]
  },
  {
   "cell_type": "code",
   "execution_count": 83,
   "metadata": {},
   "outputs": [
    {
     "data": {
      "text/plain": [
       "golden_retriever      150\n",
       "Labrador_retriever    100\n",
       "Pembroke               89\n",
       "Chihuahua              83\n",
       "pug                    57\n",
       "Name: pred, dtype: int64"
      ]
     },
     "execution_count": 83,
     "metadata": {},
     "output_type": "execute_result"
    }
   ],
   "source": [
    "# Gets Top 5 breeds by count\n",
    "top_breeds = breeds.pred.value_counts().head()\n",
    "top_breeds"
   ]
  },
  {
   "cell_type": "code",
   "execution_count": 84,
   "metadata": {},
   "outputs": [
    {
     "data": {
      "image/png": "[encoded data removed]",
      "text/plain": [
       "<Figure size 864x432 with 1 Axes>"
      ]
     },
     "metadata": {
      "needs_background": "light"
     },
     "output_type": "display_data"
    }
   ],
   "source": [
    "#####\n",
    "\n",
    "plt.subplots(figsize=(12, 6))\n",
    "plt.bar([1, 2, 3, 4, 5], top_breeds, tick_label=list(top_breeds.keys()))\n",
    "plt.title('Breed count\\n', fontsize=18, weight='bold')\n",
    "plt.xlabel('\\nBreed', weight='bold')\n",
    "plt.ylabel('count\\n', weight='bold');\n",
    "\n"
   ]
  },
  {
   "cell_type": "markdown",
   "metadata": {},
   "source": [
    "\n",
    "***\n",
    "Creating a new dataframe by merging columns from archive and predictions, t get ratings, retweet_count and favorite_count of dog breeds"
   ]
  },
  {
   "cell_type": "code",
   "execution_count": 85,
   "metadata": {},
   "outputs": [],
   "source": [
    "breed_metrics = pd.merge(breeds, archive, on=\"tweet_id\")\n"
   ]
  },
  {
   "cell_type": "markdown",
   "metadata": {},
   "source": [
    "Now, I can group by breed and calculate : ratings, retweet_count, favorite_count"
   ]
  },
  {
   "cell_type": "code",
   "execution_count": 86,
   "metadata": {},
   "outputs": [],
   "source": [
    "def top_breed_by(df, metric, unwanted_breeds=[]):\n",
    "    \n",
    "    return df.query(\"pred not in @unwanted_breeds\")\\\n",
    "            .groupby(\"pred\")[metric].mean()\\\n",
    "            .sort_values(ascending=False).head()"
   ]
  },
  {
   "cell_type": "code",
   "execution_count": 87,
   "metadata": {},
   "outputs": [],
   "source": [
    "# get list of unwanted breeds\n",
    "masc = breed_metrics.pred.value_counts() < 10\n",
    "unwanted_breeds = list((masc).index[masc])\n"
   ]
  },
  {
   "cell_type": "code",
   "execution_count": 88,
   "metadata": {},
   "outputs": [],
   "source": [
    "top_breed_rating = top_breed_by(breed_metrics, \"ratings\", unwanted_breeds)"
   ]
  },
  {
   "cell_type": "markdown",
   "metadata": {},
   "source": [
    "#### 2. By rating"
   ]
  },
  {
   "cell_type": "code",
   "execution_count": 89,
   "metadata": {},
   "outputs": [
    {
     "data": {
      "text/plain": [
       "pred\n",
       "kuvasz              1.206250\n",
       "Eskimo_dog          1.177778\n",
       "Samoyed             1.170000\n",
       "golden_retriever    1.169401\n",
       "chow                1.160976\n",
       "Name: ratings, dtype: float64"
      ]
     },
     "execution_count": 89,
     "metadata": {},
     "output_type": "execute_result"
    }
   ],
   "source": [
    "breed_rating = top_breed_by(breed_metrics, \"ratings\", unwanted_breeds)\n",
    "breed_rating"
   ]
  },
  {
   "cell_type": "code",
   "execution_count": 90,
   "metadata": {},
   "outputs": [
    {
     "data": {
      "image/png": "[encoded data removed]",
      "text/plain": [
       "<Figure size 864x432 with 1 Axes>"
      ]
     },
     "metadata": {
      "needs_background": "light"
     },
     "output_type": "display_data"
    }
   ],
   "source": [
    "plt.subplots(figsize=(12, 6))\n",
    "plt.bar([1, 2, 3, 4, 5], breed_rating, tick_label=breed_rating.index.to_list())\n",
    "plt.title('Breed ratings\\n', fontsize=18, weight='bold')\n",
    "plt.xlabel('\\nBreed', weight='bold')\n",
    "plt.ylabel('ratings\\n', weight='bold');"
   ]
  },
  {
   "cell_type": "markdown",
   "metadata": {},
   "source": [
    "#### 3. By retweet count"
   ]
  },
  {
   "cell_type": "code",
   "execution_count": 91,
   "metadata": {
    "scrolled": true
   },
   "outputs": [
    {
     "data": {
      "text/plain": [
       "pred\n",
       "Eskimo_dog        4768.888889\n",
       "Great_Pyrenees    4732.285714\n",
       "French_bulldog    4683.923077\n",
       "Samoyed           4623.050000\n",
       "Cardigan          4540.588235\n",
       "Name: retweet_count, dtype: float64"
      ]
     },
     "execution_count": 91,
     "metadata": {},
     "output_type": "execute_result"
    }
   ],
   "source": [
    "breed_retweet = top_breed_by(breed_metrics, \"retweet_count\", unwanted_breeds)\n",
    "breed_retweet"
   ]
  },
  {
   "cell_type": "code",
   "execution_count": 92,
   "metadata": {},
   "outputs": [
    {
     "data": {
      "image/png": "[encoded data removed]",
      "text/plain": [
       "<Figure size 864x432 with 1 Axes>"
      ]
     },
     "metadata": {
      "needs_background": "light"
     },
     "output_type": "display_data"
    }
   ],
   "source": [
    "plt.subplots(figsize=(12, 6))\n",
    "plt.bar([1, 2, 3, 4, 5], breed_retweet, tick_label=breed_retweet.index.to_list())\n",
    "plt.title('Breed retweets\\n', fontsize=18, weight='bold')\n",
    "plt.xlabel('\\nBreed', weight='bold')\n",
    "plt.ylabel('retweets\\n', weight='bold');"
   ]
  },
  {
   "cell_type": "markdown",
   "metadata": {},
   "source": [
    "#### 4. By favorite count"
   ]
  },
  {
   "cell_type": "code",
   "execution_count": 93,
   "metadata": {},
   "outputs": [
    {
     "data": {
      "text/plain": [
       "pred\n",
       "French_bulldog      17913.000\n",
       "Cardigan            15311.000\n",
       "basset              13866.000\n",
       "Samoyed             13574.775\n",
       "Lakeland_terrier    12955.750\n",
       "Name: favorite_count, dtype: float64"
      ]
     },
     "execution_count": 93,
     "metadata": {},
     "output_type": "execute_result"
    }
   ],
   "source": [
    "breed_favorite = top_breed_by(breed_metrics, \"favorite_count\", unwanted_breeds)\n",
    "breed_favorite"
   ]
  },
  {
   "cell_type": "code",
   "execution_count": 94,
   "metadata": {},
   "outputs": [
    {
     "data": {
      "image/png": "[encoded data removed]",
      "text/plain": [
       "<Figure size 864x432 with 1 Axes>"
      ]
     },
     "metadata": {
      "needs_background": "light"
     },
     "output_type": "display_data"
    }
   ],
   "source": [
    "plt.subplots(figsize=(12, 6))\n",
    "plt.bar([1, 2, 3, 4, 5], breed_favorite, tick_label=breed_favorite.index.to_list())\n",
    "plt.title('Breed favorite\\n', fontsize=18, weight='bold')\n",
    "plt.xlabel('\\nBreed', weight='bold')\n",
    "plt.ylabel('favorites\\n', weight='bold');"
   ]
  },
  {
   "cell_type": "markdown",
   "metadata": {},
   "source": [
    "All these plots point to the same result, which is: \n",
    "The most favorited breed of dogs are the following:\n",
    " - Golden retriever\n",
    " - Labrador retriever\n",
    " - Pembroke\n",
    " - Chihuahua\n",
    " - Pug\n",
    " \n",
    "which are the most mentionned in weRateDogs tweets. "
   ]
  },
  {
   "cell_type": "markdown",
   "metadata": {},
   "source": [
    "<a id='user_inter_time'> </a>\n",
    "### 4. User interaction over time"
   ]
  },
  {
   "cell_type": "code",
   "execution_count": 95,
   "metadata": {},
   "outputs": [],
   "source": [
    "archive_weekly = archive.groupby(pd.Grouper(key='timestamp', freq='1w'))[['favorite_count', 'retweet_count']].mean()\\\n",
    "                    .reset_index().sort_values('timestamp')[:-1]"
   ]
  },
  {
   "cell_type": "code",
   "execution_count": 98,
   "metadata": {},
   "outputs": [
    {
     "data": {
      "image/png": "[encoded data removed]",
      "text/plain": [
       "<Figure size 1080x648 with 1 Axes>"
      ]
     },
     "metadata": {
      "needs_background": "light"
     },
     "output_type": "display_data"
    }
   ],
   "source": [
    "plt.subplots(figsize=(15, 9))\n",
    "plt.plot(archive_weekly.timestamp, archive_weekly.favorite_count, label=\"Weekly Favorites\");\n",
    "plt.plot(archive_weekly.timestamp, archive_weekly.retweet_count, label=\"Weekly Retweets\");\n",
    "plt.title('User interaction over time\\n', fontsize=20, weight='bold')\n",
    "plt.xlabel('\\nDate (YYYY-MM)', weight='bold', fontsize=14)\n",
    "plt.ylabel('Mean\\n', weight='bold', fontsize=14)\n",
    "plt.legend();"
   ]
  },
  {
   "cell_type": "markdown",
   "metadata": {},
   "source": [
    "We clearly see how the mean number of favorites by week increased from 1000 approximately in 2015-11 to over 30000 in 2017-07,\n",
    "which is not the case when looking at the numbers of retweets which did not grow so much this period."
   ]
  },
  {
   "cell_type": "markdown",
   "metadata": {},
   "source": [
    "<a id='conclusion'> </a>\n",
    "## Conclusion\n",
    "In this project, I started with 4 questions and 3 sources of data and after gathering this data, assessing it and then cleaning it, I proceeded with the data analysis and visualizations which allowed me to find answers to the starting questions."
   ]
  },
  {
   "cell_type": "code",
   "execution_count": null,
   "metadata": {},
   "outputs": [],
   "source": []
  }
 ],
 "metadata": {
  "kernelspec": {
   "display_name": "Python 3",
   "language": "python",
   "name": "python3"
  },
  "language_info": {
   "codemirror_mode": {
    "name": "ipython",
    "version": 3
   },
   "file_extension": ".py",
   "mimetype": "text/x-python",
   "name": "python",
   "nbconvert_exporter": "python",
   "pygments_lexer": "ipython3",
   "version": "3.6.7"
  }
 },
 "nbformat": 4,
 "nbformat_minor": 2
}
